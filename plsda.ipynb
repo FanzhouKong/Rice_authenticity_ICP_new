{
 "cells": [
  {
   "cell_type": "code",
   "execution_count": 104,
   "metadata": {},
   "outputs": [],
   "source": [
    "import pandas as pd\n",
    "import numpy as np\n",
    "from sklearn.model_selection import train_test_split\n",
    "from sklearn.ensemble import RandomForestClassifier\n",
    "from sklearn.metrics import accuracy_score\n",
    "from sklearn.metrics import cohen_kappa_score\n",
    "from sklearn.metrics import balanced_accuracy_score\n",
    "from sklearn.metrics import f1_score\n",
    "from sklearn.metrics import roc_curve\n",
    "from sklearn.metrics import recall_score\n",
    "from sklearn.metrics import precision_score\n",
    "from sklearn.metrics import classification_report\n",
    "from sklearn.ensemble import BaggingClassifier\n",
    "from sklearn.ensemble import AdaBoostClassifier\n",
    "from sklearn.metrics import confusion_matrix\n",
    "from sklearn.metrics import recall_score\n",
    "from sklearn.metrics import balanced_accuracy_score\n",
    "from sklearn.metrics import roc_auc_score\n",
    "from catboost import CatBoostClassifier\n",
    "from imblearn.ensemble import BalancedBaggingClassifier\n",
    "from sklearn.tree import DecisionTreeClassifier\n",
    "from xgboost import XGBClassifier\n",
    "import math\n",
    "import random\n",
    "import warnings\n",
    "warnings.simplefilter('ignore')\n",
    "from sklearn.pipeline import make_pipeline\n",
    "from sklearn.pipeline import Pipeline\n",
    "from skrebate import ReliefF\n",
    "from sklearn.model_selection import cross_val_score\n",
    "from numpy import array\n",
    "from mlxtend.feature_selection import ColumnSelector\n",
    "from sklearn.feature_selection import SelectFromModel\n",
    "from sklearn.ensemble import ExtraTreesClassifier\n",
    "import seaborn as sns\n",
    "import matplotlib.pyplot as plt\n",
    "from sklearn.model_selection import GridSearchCV\n",
    "from IPython.display import Image  \n",
    "from sklearn.tree import export_graphviz\n",
    "from sklearn.tree import DecisionTreeClassifier\n",
    "import pydotplus\n",
    "from sklearn.externals.six import StringIO  \n",
    "from sklearn.svm import SVC\n",
    "import sklearn.metrics as metrics\n",
    "from sklearn.metrics import roc_auc_score\n",
    "%matplotlib inline\n",
    "from sklearn.cross_decomposition import PLSRegression\n",
    "import tensorflow as tf"
   ]
  },
  {
   "cell_type": "code",
   "execution_count": 210,
   "metadata": {},
   "outputs": [],
   "source": [
    "data = pd.read_csv(\"C:/Users/fzkon/Documents/GitHub/Rice_authenticity_ICP_new/grand.csv\")\n",
    "relief_result = pd.read_csv(\"C:/Users/fzkon/Documents/GitHub/Rice_authenticity_ICP_new/relief_result_python.csv\")\n",
    "x = data.loc[:, data.columns != 'lv']\n",
    "y = data.loc[:, data.columns == 'lv']"
   ]
  },
  {
   "cell_type": "code",
   "execution_count": 164,
   "metadata": {},
   "outputs": [
    {
     "data": {
      "text/plain": [
       "PLSRegression(copy=True, max_iter=500, n_components=10, scale=True, tol=1e-06)"
      ]
     },
     "execution_count": 164,
     "metadata": {},
     "output_type": "execute_result"
    }
   ],
   "source": [
    "mask = relief_result['Elements'][0:4]\n",
    "# x_temp = x[mask]\n",
    "# x_train, x_test, y_train, y_test = train_test_split(x_temp, y, test_size = 0.2, random_state = 23)\n",
    "x_train, x_test, y_train, y_test = train_test_split(x, y, test_size = 0.2, random_state = 23)\n",
    "y_train_class = pd.get_dummies(y_train)\n",
    "y_test_class = pd.get_dummies(y_test)\n",
    "\n",
    "plsda = PLSRegression(n_components=10)\n",
    "plsda.fit(x_train, y_train_class)"
   ]
  },
  {
   "cell_type": "code",
   "execution_count": 108,
   "metadata": {},
   "outputs": [
    {
     "data": {
      "text/plain": [
       "1.0"
      ]
     },
     "execution_count": 108,
     "metadata": {},
     "output_type": "execute_result"
    }
   ],
   "source": [
    "Y_hat = plsda.predict(x_test)\n",
    "\n",
    "answer = ['GG', 'JS', 'PJ-1', 'PJ-2', 'SY', 'WC']\n",
    "\n",
    "Y_answer = np.array([answer[np.argmax(i)] for i in Y_hat])\n",
    "\n",
    "accuracy_score(y_test, Y_answer)"
   ]
  },
  {
   "cell_type": "code",
   "execution_count": 229,
   "metadata": {},
   "outputs": [
    {
     "data": {
      "text/plain": [
       "0.958090384977774"
      ]
     },
     "execution_count": 229,
     "metadata": {},
     "output_type": "execute_result"
    }
   ],
   "source": [
    "plsda.score(x_train, y_train_class)"
   ]
  },
  {
   "cell_type": "code",
   "execution_count": 141,
   "metadata": {},
   "outputs": [
    {
     "data": {
      "text/plain": [
       "array(['GG', 'PJ-1', 'PJ-2', 'JS', 'SY', 'WC'], dtype=object)"
      ]
     },
     "execution_count": 141,
     "metadata": {},
     "output_type": "execute_result"
    }
   ],
   "source": [
    "data['lv'].unique()"
   ]
  },
  {
   "cell_type": "code",
   "execution_count": 142,
   "metadata": {},
   "outputs": [],
   "source": [
    "locations= data['lv'].unique()"
   ]
  },
  {
   "cell_type": "code",
   "execution_count": 183,
   "metadata": {},
   "outputs": [],
   "source": [
    "colormap = {\n",
    "    'GG': '#e6d933', # red\n",
    "    'PJ-1': '#0000ff', # blue\n",
    "    'PJ-2': '#7400a1', # purple\n",
    "    'JS': '#20b2aa', #green\n",
    "    'SY': '#ff0000', #yellow #e6d933\n",
    "    'WC': '#ffe5b4', #light peach  \n",
    "}"
   ]
  },
  {
   "cell_type": "code",
   "execution_count": 185,
   "metadata": {},
   "outputs": [],
   "source": [
    "colorlist = [colormap[c] for c in y_train['lv']]"
   ]
  },
  {
   "cell_type": "code",
   "execution_count": 218,
   "metadata": {},
   "outputs": [
    {
     "data": {
      "image/png": "[encoded data removed]",
      "text/plain": [
       "<Figure size 432x432 with 1 Axes>"
      ]
     },
     "metadata": {
      "needs_background": "light"
     },
     "output_type": "display_data"
    }
   ],
   "source": [
    "scores = pd.DataFrame(plsda.x_scores_)\n",
    "scores.index = x_train.index\n",
    "\n",
    "ax = scores.plot(x=0, y=1, kind='scatter', s=50, alpha=0.7, \n",
    "                 c=colorlist, figsize=(6,6))"
   ]
  },
  {
   "cell_type": "code",
   "execution_count": 204,
   "metadata": {},
   "outputs": [
    {
     "data": {
      "text/plain": [
       "20     0.369562\n",
       "103    3.104070\n",
       "129    1.779034\n",
       "93     0.349353\n",
       "34     0.808777\n",
       "         ...   \n",
       "76    -5.213827\n",
       "109    3.214587\n",
       "31     2.189097\n",
       "40    -3.926821\n",
       "83    -4.756931\n",
       "Name: 0, Length: 104, dtype: float64"
      ]
     },
     "execution_count": 204,
     "metadata": {},
     "output_type": "execute_result"
    }
   ],
   "source": [
    "scores.iloc[:,0]"
   ]
  },
  {
   "cell_type": "code",
   "execution_count": 219,
   "metadata": {},
   "outputs": [],
   "source": [
    "p1 = scores.iloc[:,0]\n",
    "p2 =scores.iloc[:,1]"
   ]
  },
  {
   "cell_type": "code",
   "execution_count": 220,
   "metadata": {},
   "outputs": [],
   "source": [
    "test = (p1, p2)"
   ]
  },
  {
   "cell_type": "code",
   "execution_count": 225,
   "metadata": {},
   "outputs": [],
   "source": [
    "colors = (\"red\", \"green\", \"blue\", \"red\", \"green\", \"blue\")\n"
   ]
  }
 ],
 "metadata": {
  "kernelspec": {
   "display_name": "Python 3",
   "language": "python",
   "name": "python3"
  },
  "language_info": {
   "codemirror_mode": {
    "name": "ipython",
    "version": 3
   },
   "file_extension": ".py",
   "mimetype": "text/x-python",
   "name": "python",
   "nbconvert_exporter": "python",
   "pygments_lexer": "ipython3",
   "version": "3.7.5"
  }
 },
 "nbformat": 4,
 "nbformat_minor": 2
}
