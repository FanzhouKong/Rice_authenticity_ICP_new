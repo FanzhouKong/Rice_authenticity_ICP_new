{
 "cells": [
  {
   "cell_type": "markdown",
   "metadata": {},
   "source": [
    "# librarys"
   ]
  },
  {
   "cell_type": "code",
   "execution_count": 119,
   "metadata": {},
   "outputs": [],
   "source": [
    "import pandas as pd\n",
    "import numpy as np\n",
    "import pandas as pd\n",
    "from sklearn.model_selection import train_test_split\n",
    "from sklearn.ensemble import RandomForestClassifier\n",
    "from sklearn.metrics import accuracy_score\n",
    "from sklearn.metrics import cohen_kappa_score\n",
    "from sklearn.metrics import f1_score\n",
    "from sklearn.metrics import recall_score\n",
    "from sklearn.metrics import precision_score\n",
    "from sklearn.metrics import classification_report\n",
    "from sklearn.ensemble import BaggingClassifier\n",
    "from sklearn.ensemble import AdaBoostClassifier\n",
    "from sklearn.metrics import confusion_matrix\n",
    "from sklearn.metrics import recall_score\n",
    "from sklearn.metrics import balanced_accuracy_score\n",
    "from sklearn.metrics import roc_auc_score\n",
    "from catboost import CatBoostClassifier\n",
    "from imblearn.ensemble import BalancedBaggingClassifier\n",
    "from sklearn.tree import DecisionTreeClassifier\n",
    "from xgboost import XGBClassifier\n",
    "import math\n",
    "import random\n",
    "import warnings\n",
    "warnings.simplefilter('ignore')\n",
    "from sklearn.pipeline import make_pipeline\n",
    "from sklearn.pipeline import Pipeline\n",
    "from skrebate import ReliefF\n",
    "from sklearn.model_selection import cross_val_score\n",
    "from numpy import array\n",
    "from mlxtend.feature_selection import ColumnSelector\n",
    "from sklearn.feature_selection import SelectFromModel\n",
    "from sklearn.ensemble import ExtraTreesClassifier\n",
    "import seaborn as sns\n",
    "import matplotlib.pyplot as plt\n",
    "from sklearn.model_selection import GridSearchCV\n",
    "from sklearn.svm import LinearSVC\n",
    "from IPython.display import Image  \n",
    "from sklearn.tree import export_graphviz\n",
    "from sklearn.tree import DecisionTreeClassifier\n",
    "import pydotplus\n",
    "from sklearn import svm\n",
    "from sklearn.externals.six import StringIO  \n",
    "from mlxtend.plotting import plot_confusion_matrix"
   ]
  },
  {
   "cell_type": "markdown",
   "metadata": {},
   "source": [
    "# functions"
   ]
  },
  {
   "cell_type": "code",
   "execution_count": 79,
   "metadata": {},
   "outputs": [],
   "source": [
    "def evaluate(model, x_test, y_test):\n",
    "    y_pred = model.predict(x_test)\n",
    "    #     print('Accuracy: {:.3f}'.format(accuracy_score(y_test, y_pred)))\n",
    "#     print('Kappa: {:.3f}'.format(cohen_kappa_score(y_test, y_pred)))\n",
    "# #     print('F1 socre: {:.3f}'.format(f1_score(y_test, y_pred)))\n",
    "# #     print('Recall socre: {:.3f}'.format(recall_score(y_test, y_pred)))\n",
    "    print(classification_report(y_test, y_pred))\n",
    "    return(accuracy_score(y_test, y_pred))"
   ]
  },
  {
   "cell_type": "code",
   "execution_count": 8,
   "metadata": {},
   "outputs": [],
   "source": [
    "def density_plot(locations, data, element):\n",
    "    # Iterate through the 6 locations\n",
    "    for location in locations:\n",
    "        # Subset to the locations\n",
    "        subset = data[data['lv'] == location]\n",
    "\n",
    "        # Draw the density plot\n",
    "#         sns.distplot(subset[element], hist = False, kde = True,\n",
    "\n",
    "#                      label = location)\n",
    "        sns.kdeplot(subset[element], bw = 0.1, label = location)\n",
    "    # Plot formatting\n",
    "    plt.legend(prop={'size': 16}, title = 'locations')\n",
    "    plt.title('Density Plot')\n",
    "    plt.xlabel(element)\n",
    "    plt.ylabel('Density')\n",
    "    "
   ]
  },
  {
   "cell_type": "markdown",
   "metadata": {},
   "source": [
    "# data import and splitting for reliefF"
   ]
  },
  {
   "cell_type": "code",
   "execution_count": 10,
   "metadata": {},
   "outputs": [],
   "source": [
    "# data = pd.read_csv(\"/Users/analytical/Documents/GitHub/Rice_authenticity_ICP_new/grand.csv\") # this is for on mac\n",
    "data = pd.read_csv(\"C:/Users/fzkon/Documents/GitHub/Rice_authenticity_ICP_new\\grand.csv\")\n",
    "x, y = data.drop(\"lv\", axis = 1).values, data[\"lv\"].values\n",
    "\n",
    "x_train, x_test, y_train, y_test = train_test_split(x, y, test_size = 0.2, random_state = 233)"
   ]
  },
  {
   "cell_type": "code",
   "execution_count": 27,
   "metadata": {},
   "outputs": [
    {
     "data": {
      "text/plain": [
       "PJ-1    35\n",
       "WC      20\n",
       "SY      20\n",
       "PJ-2    20\n",
       "JS      20\n",
       "GG      16\n",
       "Name: lv, dtype: int64"
      ]
     },
     "execution_count": 27,
     "metadata": {},
     "output_type": "execute_result"
    }
   ],
   "source": [
    "data['lv'].value_counts()"
   ]
  },
  {
   "cell_type": "code",
   "execution_count": 35,
   "metadata": {},
   "outputs": [
    {
     "data": {
      "text/plain": [
       "104"
      ]
     },
     "execution_count": 35,
     "metadata": {},
     "output_type": "execute_result"
    }
   ],
   "source": [
    "y_train=pd.Series(y_train)\n",
    "len(y_train)"
   ]
  },
  {
   "cell_type": "code",
   "execution_count": 36,
   "metadata": {},
   "outputs": [
    {
     "data": {
      "text/plain": [
       "27"
      ]
     },
     "execution_count": 36,
     "metadata": {},
     "output_type": "execute_result"
    }
   ],
   "source": [
    "y_test=pd.Series(y_test)\n",
    "y_test.value_counts()\n",
    "len(y_test)"
   ]
  },
  {
   "cell_type": "markdown",
   "metadata": {},
   "source": [
    "# Relief feature selection"
   ]
  },
  {
   "cell_type": "code",
   "execution_count": 33,
   "metadata": {
    "scrolled": true
   },
   "outputs": [
    {
     "data": {
      "text/plain": [
       "ReliefF(discrete_threshold=10, n_features_to_select=10, n_jobs=-1,\n",
       "        n_neighbors=104, verbose=False)"
      ]
     },
     "execution_count": 33,
     "metadata": {},
     "output_type": "execute_result"
    }
   ],
   "source": [
    "fs = ReliefF(n_jobs=-1, n_neighbors=len(x_train))\n",
    "fs.fit(x_train,y_train)"
   ]
  },
  {
   "cell_type": "code",
   "execution_count": 34,
   "metadata": {
    "scrolled": false
   },
   "outputs": [
    {
     "data": {
      "text/html": [
       "<div>\n",
       "<style scoped>\n",
       "    .dataframe tbody tr th:only-of-type {\n",
       "        vertical-align: middle;\n",
       "    }\n",
       "\n",
       "    .dataframe tbody tr th {\n",
       "        vertical-align: top;\n",
       "    }\n",
       "\n",
       "    .dataframe thead th {\n",
       "        text-align: right;\n",
       "    }\n",
       "</style>\n",
       "<table border=\"1\" class=\"dataframe\">\n",
       "  <thead>\n",
       "    <tr style=\"text-align: right;\">\n",
       "      <th></th>\n",
       "      <th>feature</th>\n",
       "      <th>score</th>\n",
       "    </tr>\n",
       "  </thead>\n",
       "  <tbody>\n",
       "    <tr>\n",
       "      <th>3</th>\n",
       "      <td>Al</td>\n",
       "      <td>0.408064</td>\n",
       "    </tr>\n",
       "    <tr>\n",
       "      <th>20</th>\n",
       "      <td>Rb</td>\n",
       "      <td>0.364558</td>\n",
       "    </tr>\n",
       "    <tr>\n",
       "      <th>0</th>\n",
       "      <td>B</td>\n",
       "      <td>0.355740</td>\n",
       "    </tr>\n",
       "    <tr>\n",
       "      <th>1</th>\n",
       "      <td>Na</td>\n",
       "      <td>0.349926</td>\n",
       "    </tr>\n",
       "    <tr>\n",
       "      <th>21</th>\n",
       "      <td>Sr</td>\n",
       "      <td>0.338833</td>\n",
       "    </tr>\n",
       "    <tr>\n",
       "      <th>8</th>\n",
       "      <td>V</td>\n",
       "      <td>0.334951</td>\n",
       "    </tr>\n",
       "    <tr>\n",
       "      <th>22</th>\n",
       "      <td>Nb</td>\n",
       "      <td>0.311015</td>\n",
       "    </tr>\n",
       "    <tr>\n",
       "      <th>11</th>\n",
       "      <td>Fe</td>\n",
       "      <td>0.304529</td>\n",
       "    </tr>\n",
       "    <tr>\n",
       "      <th>27</th>\n",
       "      <td>Ba</td>\n",
       "      <td>0.265368</td>\n",
       "    </tr>\n",
       "    <tr>\n",
       "      <th>10</th>\n",
       "      <td>Mn</td>\n",
       "      <td>0.262424</td>\n",
       "    </tr>\n",
       "    <tr>\n",
       "      <th>25</th>\n",
       "      <td>Cd</td>\n",
       "      <td>0.237849</td>\n",
       "    </tr>\n",
       "    <tr>\n",
       "      <th>7</th>\n",
       "      <td>Ti</td>\n",
       "      <td>0.235530</td>\n",
       "    </tr>\n",
       "    <tr>\n",
       "      <th>5</th>\n",
       "      <td>Ca</td>\n",
       "      <td>0.210344</td>\n",
       "    </tr>\n",
       "    <tr>\n",
       "      <th>12</th>\n",
       "      <td>Co</td>\n",
       "      <td>0.201343</td>\n",
       "    </tr>\n",
       "    <tr>\n",
       "      <th>24</th>\n",
       "      <td>Ag</td>\n",
       "      <td>0.193588</td>\n",
       "    </tr>\n",
       "    <tr>\n",
       "      <th>4</th>\n",
       "      <td>K</td>\n",
       "      <td>0.187970</td>\n",
       "    </tr>\n",
       "    <tr>\n",
       "      <th>16</th>\n",
       "      <td>Ga</td>\n",
       "      <td>0.184085</td>\n",
       "    </tr>\n",
       "    <tr>\n",
       "      <th>13</th>\n",
       "      <td>Ni</td>\n",
       "      <td>0.167166</td>\n",
       "    </tr>\n",
       "    <tr>\n",
       "      <th>14</th>\n",
       "      <td>Cu</td>\n",
       "      <td>0.160235</td>\n",
       "    </tr>\n",
       "    <tr>\n",
       "      <th>2</th>\n",
       "      <td>Mg</td>\n",
       "      <td>0.150698</td>\n",
       "    </tr>\n",
       "    <tr>\n",
       "      <th>17</th>\n",
       "      <td>Ge</td>\n",
       "      <td>0.141627</td>\n",
       "    </tr>\n",
       "    <tr>\n",
       "      <th>26</th>\n",
       "      <td>Cs</td>\n",
       "      <td>0.134251</td>\n",
       "    </tr>\n",
       "    <tr>\n",
       "      <th>18</th>\n",
       "      <td>As</td>\n",
       "      <td>0.123611</td>\n",
       "    </tr>\n",
       "    <tr>\n",
       "      <th>6</th>\n",
       "      <td>Sc</td>\n",
       "      <td>0.101336</td>\n",
       "    </tr>\n",
       "    <tr>\n",
       "      <th>29</th>\n",
       "      <td>Pb</td>\n",
       "      <td>0.096163</td>\n",
       "    </tr>\n",
       "    <tr>\n",
       "      <th>23</th>\n",
       "      <td>Mo</td>\n",
       "      <td>0.090317</td>\n",
       "    </tr>\n",
       "    <tr>\n",
       "      <th>15</th>\n",
       "      <td>Zn</td>\n",
       "      <td>0.078628</td>\n",
       "    </tr>\n",
       "    <tr>\n",
       "      <th>28</th>\n",
       "      <td>Hg</td>\n",
       "      <td>0.077841</td>\n",
       "    </tr>\n",
       "    <tr>\n",
       "      <th>19</th>\n",
       "      <td>Se</td>\n",
       "      <td>0.075588</td>\n",
       "    </tr>\n",
       "    <tr>\n",
       "      <th>9</th>\n",
       "      <td>Cr</td>\n",
       "      <td>0.069218</td>\n",
       "    </tr>\n",
       "  </tbody>\n",
       "</table>\n",
       "</div>"
      ],
      "text/plain": [
       "   feature     score\n",
       "3       Al  0.408064\n",
       "20      Rb  0.364558\n",
       "0        B  0.355740\n",
       "1       Na  0.349926\n",
       "21      Sr  0.338833\n",
       "8        V  0.334951\n",
       "22      Nb  0.311015\n",
       "11      Fe  0.304529\n",
       "27      Ba  0.265368\n",
       "10      Mn  0.262424\n",
       "25      Cd  0.237849\n",
       "7       Ti  0.235530\n",
       "5       Ca  0.210344\n",
       "12      Co  0.201343\n",
       "24      Ag  0.193588\n",
       "4        K  0.187970\n",
       "16      Ga  0.184085\n",
       "13      Ni  0.167166\n",
       "14      Cu  0.160235\n",
       "2       Mg  0.150698\n",
       "17      Ge  0.141627\n",
       "26      Cs  0.134251\n",
       "18      As  0.123611\n",
       "6       Sc  0.101336\n",
       "29      Pb  0.096163\n",
       "23      Mo  0.090317\n",
       "15      Zn  0.078628\n",
       "28      Hg  0.077841\n",
       "19      Se  0.075588\n",
       "9       Cr  0.069218"
      ]
     },
     "execution_count": 34,
     "metadata": {},
     "output_type": "execute_result"
    }
   ],
   "source": [
    "relief_result = pd.DataFrame(columns = ['feature', 'score'])\n",
    "\n",
    "relief_result['score'] = fs.feature_importances_\n",
    "\n",
    "relief_result['feature'] =data.columns[1:31]\n",
    "\n",
    "relief_result.sort_values(by=['score'], ascending=False)"
   ]
  },
  {
   "cell_type": "code",
   "execution_count": 134,
   "metadata": {},
   "outputs": [],
   "source": [
    "relief_result = relief_result.sort_values(by=['score'], ascending=False)\n",
    "relief_result.to_csv(\"C:/Users/fzkon/Documents/GitHub/Rice_authenticity_ICP_new/relief_result_python.csv\", index=False)"
   ]
  },
  {
   "cell_type": "markdown",
   "metadata": {},
   "source": [
    "# hyperparameter optimization for rf"
   ]
  },
  {
   "cell_type": "code",
   "execution_count": 11,
   "metadata": {},
   "outputs": [],
   "source": [
    "# relief_result = pd.read_csv(\"/Users/analytical/Documents/GitHub/Rice_authenticity_ICP_new/relief_result_python.csv\") #this is for running on mac\n",
    "\n",
    "relief_result = pd.read_csv(\"C:/Users/fzkon/Documents/GitHub/Rice_authenticity_ICP_new/relief_result_python.csv\")\n",
    "relief_result = relief_result.sort_values(by=['score'], ascending=False)\n",
    "x = data.loc[:, data.columns != 'lv']\n",
    "y = data.loc[:, data.columns == 'lv']"
   ]
  },
  {
   "cell_type": "code",
   "execution_count": 14,
   "metadata": {},
   "outputs": [],
   "source": [
    "summary = pd.DataFrame(columns=['number of features', 'training accuracy', 'testing accuracy'])"
   ]
  },
  {
   "cell_type": "code",
   "execution_count": 22,
   "metadata": {},
   "outputs": [
    {
     "name": "stdout",
     "output_type": "stream",
     "text": [
      "Fitting 10 folds for each of 100 candidates, totalling 1000 fits\n"
     ]
    },
    {
     "name": "stderr",
     "output_type": "stream",
     "text": [
      "[Parallel(n_jobs=-1)]: Using backend LokyBackend with 12 concurrent workers.\n",
      "[Parallel(n_jobs=-1)]: Done  17 tasks      | elapsed:    3.6s\n",
      "[Parallel(n_jobs=-1)]: Done 138 tasks      | elapsed:   22.6s\n",
      "[Parallel(n_jobs=-1)]: Done 341 tasks      | elapsed:   58.1s\n",
      "[Parallel(n_jobs=-1)]: Done 624 tasks      | elapsed:  1.8min\n",
      "[Parallel(n_jobs=-1)]: Done 1000 out of 1000 | elapsed:  3.0min finished\n"
     ]
    },
    {
     "name": "stdout",
     "output_type": "stream",
     "text": [
      "i am in cycle of 1\n",
      "my testing accuracy is 0.5555555555555556\n",
      "now i have 100% training accuracy with the following parameters:\n",
      "{'bootstrap': True, 'max_depth': 13, 'max_features': 'auto', 'n_estimators': 100}\n",
      "Fitting 10 folds for each of 100 candidates, totalling 1000 fits\n"
     ]
    },
    {
     "name": "stderr",
     "output_type": "stream",
     "text": [
      "[Parallel(n_jobs=-1)]: Using backend LokyBackend with 12 concurrent workers.\n",
      "[Parallel(n_jobs=-1)]: Done  17 tasks      | elapsed:    1.1s\n",
      "[Parallel(n_jobs=-1)]: Done 138 tasks      | elapsed:   20.1s\n",
      "[Parallel(n_jobs=-1)]: Done 341 tasks      | elapsed:   55.4s\n",
      "[Parallel(n_jobs=-1)]: Done 624 tasks      | elapsed:  1.8min\n",
      "[Parallel(n_jobs=-1)]: Done 1000 out of 1000 | elapsed:  2.9min finished\n"
     ]
    },
    {
     "name": "stdout",
     "output_type": "stream",
     "text": [
      "i am in cycle of 2\n",
      "my testing accuracy is 0.7037037037037037\n",
      "now i have 100% training accuracy with the following parameters:\n",
      "{'bootstrap': True, 'max_depth': 13, 'max_features': 'auto', 'n_estimators': 100}\n",
      "Fitting 10 folds for each of 100 candidates, totalling 1000 fits\n"
     ]
    },
    {
     "name": "stderr",
     "output_type": "stream",
     "text": [
      "[Parallel(n_jobs=-1)]: Using backend LokyBackend with 12 concurrent workers.\n",
      "[Parallel(n_jobs=-1)]: Done  17 tasks      | elapsed:    1.1s\n",
      "[Parallel(n_jobs=-1)]: Done 138 tasks      | elapsed:   20.8s\n",
      "[Parallel(n_jobs=-1)]: Done 341 tasks      | elapsed:   56.9s\n",
      "[Parallel(n_jobs=-1)]: Done 624 tasks      | elapsed:  1.8min\n",
      "[Parallel(n_jobs=-1)]: Done 1000 out of 1000 | elapsed:  3.0min finished\n"
     ]
    },
    {
     "name": "stdout",
     "output_type": "stream",
     "text": [
      "i am in cycle of 3\n",
      "my testing accuracy is 0.7777777777777778\n",
      "now i have 100% training accuracy with the following parameters:\n",
      "{'bootstrap': True, 'max_depth': 13, 'max_features': 'sqrt', 'n_estimators': 300}\n",
      "Fitting 10 folds for each of 100 candidates, totalling 1000 fits\n"
     ]
    },
    {
     "name": "stderr",
     "output_type": "stream",
     "text": [
      "[Parallel(n_jobs=-1)]: Using backend LokyBackend with 12 concurrent workers.\n",
      "[Parallel(n_jobs=-1)]: Done  17 tasks      | elapsed:    1.1s\n",
      "[Parallel(n_jobs=-1)]: Done 138 tasks      | elapsed:   20.2s\n",
      "[Parallel(n_jobs=-1)]: Done 341 tasks      | elapsed:   55.3s\n",
      "[Parallel(n_jobs=-1)]: Done 624 tasks      | elapsed:  1.7min\n",
      "[Parallel(n_jobs=-1)]: Done 1000 out of 1000 | elapsed:  2.9min finished\n"
     ]
    },
    {
     "name": "stdout",
     "output_type": "stream",
     "text": [
      "now i have 100% training accuracy with the following parameters:\n",
      "{'bootstrap': True, 'max_depth': 37, 'max_features': 'auto', 'n_estimators': 200}\n",
      "my testing accuracy is 1.0\n"
     ]
    }
   ],
   "source": [
    "param_grid = {\n",
    "    'bootstrap': [True],\n",
    "    'max_depth': [int(x) for x in np.linspace(start=1, stop = 50, num = 5)],\n",
    "    'max_features': ['auto', 'sqrt'],\n",
    "    'n_estimators': [int(x) for x in np.linspace(start = 100, stop = 1000, num = 10)]\n",
    "    }\n",
    "rf = RandomForestClassifier(n_jobs=-1)\n",
    "grid_search = GridSearchCV(estimator = rf, param_grid = param_grid, \n",
    "                          cv = 10, n_jobs = -1, verbose = 2)\n",
    "summary = pd.DataFrame(columns=['number of features', 'training accuracy', 'testing accuracy'])\n",
    "\n",
    "training_accuracy =[]\n",
    "testing_accuracy = []\n",
    "features = []\n",
    "\n",
    "for i in range(1, x.shape[1]+1):\n",
    "    mask = relief_result['feature'][0:i]\n",
    "    x_temp = x[mask]\n",
    "    features.append(list(mask))\n",
    "    x_train, x_test, y_train, y_test = train_test_split(x_temp, y, test_size = 0.2, random_state = 23)\n",
    "    grid_search.fit(x_train, y_train)\n",
    "    training_accuracy.append(grid_search.best_score_)\n",
    "    if(grid_search.best_score_ == 1):\n",
    "        print(\"now i have 100% training accuracy with the following parameters:\")\n",
    "        print(grid_search.best_params_)\n",
    "        best_grid = grid_search.best_estimator_\n",
    "        grid_accuracy = evaluate(best_grid, x_test, y_test)\n",
    "        testing_accuracy.append(grid_accuracy)\n",
    "        print(\"my testing accuracy is\", grid_accuracy)\n",
    "        break    \n",
    "    best_grid = grid_search.best_estimator_\n",
    "    grid_accuracy = evaluate(best_grid, x_test, y_test)\n",
    "    testing_accuracy.append(grid_accuracy)\n",
    "    print(\"i am in cycle of\", i)\n",
    "    print(\"my testing accuracy is\", grid_accuracy)\n",
    "    print(\"now i have 100% training accuracy with the following parameters:\")\n",
    "    print(grid_search.best_params_)\n",
    "    \n",
    "\n",
    "summary['number of features'] = features\n",
    "\n",
    "    "
   ]
  },
  {
   "cell_type": "code",
   "execution_count": 23,
   "metadata": {},
   "outputs": [
    {
     "name": "stdout",
     "output_type": "stream",
     "text": [
      "  number of features  training accuracy  testing accuracy\n",
      "0               [Al]           0.487273          0.555556\n",
      "1           [Al, Rb]           0.833636          0.703704\n",
      "2        [Al, Rb, B]           0.921818          0.777778\n",
      "3    [Al, Rb, B, Na]           1.000000          1.000000\n"
     ]
    }
   ],
   "source": [
    "summary['number of features'] = features\n",
    "summary['training accuracy'] = training_accuracy\n",
    "summary['testing accuracy'] = testing_accuracy\n",
    "print(summary)"
   ]
  },
  {
   "cell_type": "code",
   "execution_count": 32,
   "metadata": {
    "scrolled": false
   },
   "outputs": [
    {
     "name": "stdout",
     "output_type": "stream",
     "text": [
      "  number of features  training accuracy  testing accuracy\n",
      "0               [Al]           0.487273          0.555556\n",
      "1           [Al, Rb]           0.833636          0.703704\n",
      "2        [Al, Rb, B]           0.921818          0.777778\n",
      "3    [Al, Rb, B, Na]           1.000000          1.000000\n"
     ]
    }
   ],
   "source": [
    "print(summary)\n",
    "\n",
    "summary.to_csv(\"C:/Users/fzkon/Documents/GitHub/Rice_authenticity_ICP_new/rf_result.csv\", \n",
    "               index=True)"
   ]
  },
  {
   "cell_type": "markdown",
   "metadata": {},
   "source": [
    "## Confusion matrix with rf"
   ]
  },
  {
   "cell_type": "code",
   "execution_count": 37,
   "metadata": {},
   "outputs": [],
   "source": [
    "mask = relief_result['feature'][0:4]\n",
    "x_temp = x[mask]\n",
    "x_train, x_test, y_train, y_test = train_test_split(x_temp, y, test_size = 0.2, random_state = 23)"
   ]
  },
  {
   "cell_type": "code",
   "execution_count": 77,
   "metadata": {},
   "outputs": [],
   "source": [
    "rf_opt = best_grid.fit(x_train, y_train)"
   ]
  },
  {
   "cell_type": "code",
   "execution_count": 99,
   "metadata": {},
   "outputs": [],
   "source": [
    "y_pred = rf_opt.predict(x_test)\n",
    "    #     print('Accuracy: {:.3f}'.format(accuracy_score(y_test, y_pred)))\n",
    "#     print('Kappa: {:.3f}'.format(cohen_kappa_score(y_test, y_pred)))\n",
    "# #     print('F1 socre: {:.3f}'.format(f1_score(y_test, y_pred)))\n",
    "# #     print('Recall socre: {:.3f}'.format(recall_score(y_test, y_pred)))\n",
    "cm_rf = confusion_matrix(y_test, y_pred)\n",
    "\n",
    "locations = list(data['lv'].unique())\n",
    "\n",
    "from matplotlib import cm\n",
    "\n",
    "fig, ax = plot_confusion_matrix(conf_mat=cm_rf,\n",
    "                                colorbar=True,\n",
    "                                show_absolute=False,\n",
    "                                show_normed=True,\n",
    "                               class_names=locations,\n",
    "                               cmap = cm.Set1_r,\n",
    "                               figsize=(5,5))\n",
    "plt.show()"
   ]
  },
  {
   "cell_type": "markdown",
   "metadata": {},
   "source": [
    "# hyperparameter optimization for svm"
   ]
  },
  {
   "cell_type": "code",
   "execution_count": 120,
   "metadata": {
    "scrolled": true
   },
   "outputs": [
    {
     "name": "stdout",
     "output_type": "stream",
     "text": [
      "i am in the cycle of 1\n",
      "              precision    recall  f1-score   support\n",
      "\n",
      "          GG       0.00      0.00      0.00         4\n",
      "          JS       0.40      1.00      0.57         2\n",
      "        PJ-1       1.00      0.67      0.80         9\n",
      "        PJ-2       0.67      0.50      0.57         4\n",
      "          SY       0.33      1.00      0.50         3\n",
      "          WC       0.75      0.60      0.67         5\n",
      "\n",
      "    accuracy                           0.59        27\n",
      "   macro avg       0.53      0.63      0.52        27\n",
      "weighted avg       0.64      0.59      0.57        27\n",
      "\n",
      "i am in the cycle of 2\n",
      "              precision    recall  f1-score   support\n",
      "\n",
      "          GG       1.00      0.25      0.40         4\n",
      "          JS       1.00      1.00      1.00         2\n",
      "        PJ-1       1.00      1.00      1.00         9\n",
      "        PJ-2       0.50      0.50      0.50         4\n",
      "          SY       0.25      0.33      0.29         3\n",
      "          WC       0.71      1.00      0.83         5\n",
      "\n",
      "    accuracy                           0.74        27\n",
      "   macro avg       0.74      0.68      0.67        27\n",
      "weighted avg       0.79      0.74      0.73        27\n",
      "\n",
      "i am in the cycle of 3\n",
      "              precision    recall  f1-score   support\n",
      "\n",
      "          GG       0.67      1.00      0.80         4\n",
      "          JS       1.00      1.00      1.00         2\n",
      "        PJ-1       1.00      1.00      1.00         9\n",
      "        PJ-2       0.50      0.50      0.50         4\n",
      "          SY       0.33      0.33      0.33         3\n",
      "          WC       1.00      0.60      0.75         5\n",
      "\n",
      "    accuracy                           0.78        27\n",
      "   macro avg       0.75      0.74      0.73        27\n",
      "weighted avg       0.80      0.78      0.78        27\n",
      "\n",
      "i am in the cycle of 4\n",
      "              precision    recall  f1-score   support\n",
      "\n",
      "          GG       1.00      1.00      1.00         4\n",
      "          JS       1.00      1.00      1.00         2\n",
      "        PJ-1       1.00      1.00      1.00         9\n",
      "        PJ-2       1.00      1.00      1.00         4\n",
      "          SY       1.00      1.00      1.00         3\n",
      "          WC       1.00      1.00      1.00         5\n",
      "\n",
      "    accuracy                           1.00        27\n",
      "   macro avg       1.00      1.00      1.00        27\n",
      "weighted avg       1.00      1.00      1.00        27\n",
      "\n",
      "i have reached 100% accuracy\n",
      "{'C': 1, 'gamma': 0.1, 'kernel': 'rbf'}\n",
      "  number of features  training accuracy  testing accuracy\n",
      "0               [Al]           0.635455          0.592593\n",
      "1           [Al, Rb]           0.862727          0.740741\n",
      "2        [Al, Rb, B]           0.911818          0.777778\n",
      "3    [Al, Rb, B, Na]           1.000000          1.000000\n"
     ]
    }
   ],
   "source": [
    "param_grid = [{'kernel': ['rbf'], 'gamma': [0.001, 0.01, 0.1, 1, 10, 100],\n",
    "                     'C': [1, 10, 100, 1000]},\n",
    "              {'kernel': ['linear'], 'C': [1, 10, 100, 1000]},\n",
    "              {'kernel':['poly'], 'degree':[0, 1, 2, 3, 4, 5, 6]}\n",
    "             ]\n",
    "svm = svm.SVC()\n",
    "grid_search = GridSearchCV(estimator = svm, param_grid = param_grid, \n",
    "                          cv = 10, n_jobs = -1)\n",
    "\n",
    "summary = pd.DataFrame(columns=['number of features', 'training accuracy', 'testing accuracy'])\n",
    "\n",
    "training_accuracy =[]\n",
    "testing_accuracy = []\n",
    "features = []\n",
    "\n",
    "for i in range(1, x.shape[1]+1):\n",
    "    print(\"i am in the cycle of\", i)\n",
    "    mask = relief_result['feature'][0:i]\n",
    "    x_temp = x[mask]\n",
    "    x_train, x_test, y_train, y_test = train_test_split(x_temp, y, test_size = 0.2, random_state = 23)\n",
    "    grid_search.fit(x_train, y_train)\n",
    "    best_grid = grid_search.best_estimator_\n",
    "    grid_accuracy = evaluate(best_grid, x_test, y_test)\n",
    "    training_accuracy.append(grid_search.best_score_)\n",
    "    testing_accuracy.append(grid_accuracy)\n",
    "    features.append(list(mask))\n",
    "    if grid_search.best_score_ == 1:\n",
    "        print(\"i have reached 100% accuracy\")\n",
    "        print(grid_search.best_params_)\n",
    "        break\n",
    "    \n",
    "\n",
    "\n",
    "summary['number of features'] = features\n",
    "summary['training accuracy'] = training_accuracy\n",
    "summary['testing accuracy'] = testing_accuracy\n",
    "    \n",
    "\n",
    "print(summary)"
   ]
  },
  {
   "cell_type": "code",
   "execution_count": 122,
   "metadata": {},
   "outputs": [],
   "source": [
    "svm_opt = best_grid.fit(x_train, y_train)"
   ]
  },
  {
   "cell_type": "code",
   "execution_count": 132,
   "metadata": {},
   "outputs": [
    {
     "data": {
      "image/png": "[encoded data removed]",
      "text/plain": [
       "<Figure size 360x360 with 2 Axes>"
      ]
     },
     "metadata": {
      "needs_background": "light"
     },
     "output_type": "display_data"
    }
   ],
   "source": [
    "y_pred = svm_opt.predict(x_test)\n",
    "    #     print('Accuracy: {:.3f}'.format(accuracy_score(y_test, y_pred)))\n",
    "#     print('Kappa: {:.3f}'.format(cohen_kappa_score(y_test, y_pred)))\n",
    "# #     print('F1 socre: {:.3f}'.format(f1_score(y_test, y_pred)))\n",
    "# #     print('Recall socre: {:.3f}'.format(recall_score(y_test, y_pred)))\n",
    "cm_svm = confusion_matrix(y_test, y_pred)\n",
    "\n",
    "locations = list(data['lv'].unique())\n",
    "\n",
    "from matplotlib import cm\n",
    "\n",
    "fig, ax = plot_confusion_matrix(conf_mat=cm_svm,\n",
    "                                colorbar=True,\n",
    "                                show_absolute=False,\n",
    "                                show_normed=True,\n",
    "                               class_names=locations,\n",
    "                               cmap = cm.Set1_r,\n",
    "                               figsize=(5,5))\n",
    "plt.show()"
   ]
  },
  {
   "cell_type": "code",
   "execution_count": 64,
   "metadata": {},
   "outputs": [],
   "source": [
    "summary.to_csv(\"/Users/analytical/Documents/GitHub/Rice_authenticity_ICP_new/svm_result.csv\", \n",
    "               index=True)"
   ]
  },
  {
   "cell_type": "markdown",
   "metadata": {},
   "source": [
    "## Starting of density plot"
   ]
  },
  {
   "cell_type": "code",
   "execution_count": 51,
   "metadata": {},
   "outputs": [],
   "source": [
    "locations = ['JS', 'SY', 'WC', 'PJ-1', 'PJ-2', 'GG']"
   ]
  },
  {
   "cell_type": "markdown",
   "metadata": {},
   "source": [
    "Al"
   ]
  },
  {
   "cell_type": "code",
   "execution_count": 79,
   "metadata": {
    "scrolled": false
   },
   "outputs": [
    {
     "data": {
      "text/html": [
       "<div>\n",
       "<style scoped>\n",
       "    .dataframe tbody tr th:only-of-type {\n",
       "        vertical-align: middle;\n",
       "    }\n",
       "\n",
       "    .dataframe tbody tr th {\n",
       "        vertical-align: top;\n",
       "    }\n",
       "\n",
       "    .dataframe thead th {\n",
       "        text-align: right;\n",
       "    }\n",
       "</style>\n",
       "<table border=\"1\" class=\"dataframe\">\n",
       "  <thead>\n",
       "    <tr style=\"text-align: right;\">\n",
       "      <th></th>\n",
       "      <th>count</th>\n",
       "      <th>mean</th>\n",
       "      <th>std</th>\n",
       "      <th>min</th>\n",
       "      <th>25%</th>\n",
       "      <th>50%</th>\n",
       "      <th>75%</th>\n",
       "      <th>max</th>\n",
       "    </tr>\n",
       "    <tr>\n",
       "      <th>lv</th>\n",
       "      <th></th>\n",
       "      <th></th>\n",
       "      <th></th>\n",
       "      <th></th>\n",
       "      <th></th>\n",
       "      <th></th>\n",
       "      <th></th>\n",
       "      <th></th>\n",
       "    </tr>\n",
       "  </thead>\n",
       "  <tbody>\n",
       "    <tr>\n",
       "      <th>GG</th>\n",
       "      <td>16.0</td>\n",
       "      <td>8.624013</td>\n",
       "      <td>0.316711</td>\n",
       "      <td>7.851596</td>\n",
       "      <td>8.442039</td>\n",
       "      <td>8.689004</td>\n",
       "      <td>8.826498</td>\n",
       "      <td>9.069712</td>\n",
       "    </tr>\n",
       "    <tr>\n",
       "      <th>JS</th>\n",
       "      <td>20.0</td>\n",
       "      <td>10.522208</td>\n",
       "      <td>0.187829</td>\n",
       "      <td>10.271241</td>\n",
       "      <td>10.428438</td>\n",
       "      <td>10.487114</td>\n",
       "      <td>10.547028</td>\n",
       "      <td>11.141914</td>\n",
       "    </tr>\n",
       "    <tr>\n",
       "      <th>PJ-1</th>\n",
       "      <td>35.0</td>\n",
       "      <td>11.126173</td>\n",
       "      <td>0.483185</td>\n",
       "      <td>10.514673</td>\n",
       "      <td>10.684176</td>\n",
       "      <td>10.900764</td>\n",
       "      <td>11.558639</td>\n",
       "      <td>11.875304</td>\n",
       "    </tr>\n",
       "    <tr>\n",
       "      <th>PJ-2</th>\n",
       "      <td>20.0</td>\n",
       "      <td>8.329455</td>\n",
       "      <td>0.259466</td>\n",
       "      <td>7.979371</td>\n",
       "      <td>8.093455</td>\n",
       "      <td>8.304393</td>\n",
       "      <td>8.443683</td>\n",
       "      <td>8.993124</td>\n",
       "    </tr>\n",
       "    <tr>\n",
       "      <th>SY</th>\n",
       "      <td>20.0</td>\n",
       "      <td>8.624663</td>\n",
       "      <td>0.286979</td>\n",
       "      <td>8.093969</td>\n",
       "      <td>8.425880</td>\n",
       "      <td>8.632160</td>\n",
       "      <td>8.792685</td>\n",
       "      <td>9.199098</td>\n",
       "    </tr>\n",
       "    <tr>\n",
       "      <th>WC</th>\n",
       "      <td>20.0</td>\n",
       "      <td>9.001860</td>\n",
       "      <td>0.332381</td>\n",
       "      <td>8.612122</td>\n",
       "      <td>8.756477</td>\n",
       "      <td>8.918600</td>\n",
       "      <td>9.202102</td>\n",
       "      <td>9.648766</td>\n",
       "    </tr>\n",
       "  </tbody>\n",
       "</table>\n",
       "</div>"
      ],
      "text/plain": [
       "      count       mean       std        min        25%        50%        75%  \\\n",
       "lv                                                                             \n",
       "GG     16.0   8.624013  0.316711   7.851596   8.442039   8.689004   8.826498   \n",
       "JS     20.0  10.522208  0.187829  10.271241  10.428438  10.487114  10.547028   \n",
       "PJ-1   35.0  11.126173  0.483185  10.514673  10.684176  10.900764  11.558639   \n",
       "PJ-2   20.0   8.329455  0.259466   7.979371   8.093455   8.304393   8.443683   \n",
       "SY     20.0   8.624663  0.286979   8.093969   8.425880   8.632160   8.792685   \n",
       "WC     20.0   9.001860  0.332381   8.612122   8.756477   8.918600   9.202102   \n",
       "\n",
       "            max  \n",
       "lv               \n",
       "GG     9.069712  \n",
       "JS    11.141914  \n",
       "PJ-1  11.875304  \n",
       "PJ-2   8.993124  \n",
       "SY     9.199098  \n",
       "WC     9.648766  "
      ]
     },
     "execution_count": 79,
     "metadata": {},
     "output_type": "execute_result"
    },
    {
     "data": {
      "image/png": "[encoded data removed]",
      "text/plain": [
       "<Figure size 432x288 with 1 Axes>"
      ]
     },
     "metadata": {
      "needs_background": "light"
     },
     "output_type": "display_data"
    }
   ],
   "source": [
    "density_plot(locations, data, elements[0])\n",
    "\n",
    "data.groupby('lv')[elements[0]].describe()"
   ]
  },
  {
   "cell_type": "markdown",
   "metadata": {},
   "source": [
    "Rb"
   ]
  },
  {
   "cell_type": "code",
   "execution_count": 80,
   "metadata": {
    "scrolled": false
   },
   "outputs": [
    {
     "data": {
      "text/html": [
       "<div>\n",
       "<style scoped>\n",
       "    .dataframe tbody tr th:only-of-type {\n",
       "        vertical-align: middle;\n",
       "    }\n",
       "\n",
       "    .dataframe tbody tr th {\n",
       "        vertical-align: top;\n",
       "    }\n",
       "\n",
       "    .dataframe thead th {\n",
       "        text-align: right;\n",
       "    }\n",
       "</style>\n",
       "<table border=\"1\" class=\"dataframe\">\n",
       "  <thead>\n",
       "    <tr style=\"text-align: right;\">\n",
       "      <th></th>\n",
       "      <th>count</th>\n",
       "      <th>mean</th>\n",
       "      <th>std</th>\n",
       "      <th>min</th>\n",
       "      <th>25%</th>\n",
       "      <th>50%</th>\n",
       "      <th>75%</th>\n",
       "      <th>max</th>\n",
       "    </tr>\n",
       "    <tr>\n",
       "      <th>lv</th>\n",
       "      <th></th>\n",
       "      <th></th>\n",
       "      <th></th>\n",
       "      <th></th>\n",
       "      <th></th>\n",
       "      <th></th>\n",
       "      <th></th>\n",
       "      <th></th>\n",
       "    </tr>\n",
       "  </thead>\n",
       "  <tbody>\n",
       "    <tr>\n",
       "      <th>GG</th>\n",
       "      <td>16.0</td>\n",
       "      <td>11.075358</td>\n",
       "      <td>0.352862</td>\n",
       "      <td>10.471864</td>\n",
       "      <td>10.816727</td>\n",
       "      <td>11.057128</td>\n",
       "      <td>11.266772</td>\n",
       "      <td>11.652005</td>\n",
       "    </tr>\n",
       "    <tr>\n",
       "      <th>JS</th>\n",
       "      <td>20.0</td>\n",
       "      <td>10.472157</td>\n",
       "      <td>0.115461</td>\n",
       "      <td>10.262857</td>\n",
       "      <td>10.380405</td>\n",
       "      <td>10.485515</td>\n",
       "      <td>10.527730</td>\n",
       "      <td>10.670491</td>\n",
       "    </tr>\n",
       "    <tr>\n",
       "      <th>PJ-1</th>\n",
       "      <td>35.0</td>\n",
       "      <td>9.040235</td>\n",
       "      <td>0.239654</td>\n",
       "      <td>8.649233</td>\n",
       "      <td>8.826450</td>\n",
       "      <td>8.996238</td>\n",
       "      <td>9.144450</td>\n",
       "      <td>9.558324</td>\n",
       "    </tr>\n",
       "    <tr>\n",
       "      <th>PJ-2</th>\n",
       "      <td>20.0</td>\n",
       "      <td>9.976119</td>\n",
       "      <td>0.252306</td>\n",
       "      <td>9.451244</td>\n",
       "      <td>9.857604</td>\n",
       "      <td>9.963220</td>\n",
       "      <td>10.100789</td>\n",
       "      <td>10.521417</td>\n",
       "    </tr>\n",
       "    <tr>\n",
       "      <th>SY</th>\n",
       "      <td>20.0</td>\n",
       "      <td>10.191141</td>\n",
       "      <td>0.401686</td>\n",
       "      <td>9.391915</td>\n",
       "      <td>9.895441</td>\n",
       "      <td>10.275018</td>\n",
       "      <td>10.556983</td>\n",
       "      <td>10.656619</td>\n",
       "    </tr>\n",
       "    <tr>\n",
       "      <th>WC</th>\n",
       "      <td>20.0</td>\n",
       "      <td>11.061249</td>\n",
       "      <td>0.121203</td>\n",
       "      <td>10.758231</td>\n",
       "      <td>11.008951</td>\n",
       "      <td>11.066301</td>\n",
       "      <td>11.129656</td>\n",
       "      <td>11.306991</td>\n",
       "    </tr>\n",
       "  </tbody>\n",
       "</table>\n",
       "</div>"
      ],
      "text/plain": [
       "      count       mean       std        min        25%        50%        75%  \\\n",
       "lv                                                                             \n",
       "GG     16.0  11.075358  0.352862  10.471864  10.816727  11.057128  11.266772   \n",
       "JS     20.0  10.472157  0.115461  10.262857  10.380405  10.485515  10.527730   \n",
       "PJ-1   35.0   9.040235  0.239654   8.649233   8.826450   8.996238   9.144450   \n",
       "PJ-2   20.0   9.976119  0.252306   9.451244   9.857604   9.963220  10.100789   \n",
       "SY     20.0  10.191141  0.401686   9.391915   9.895441  10.275018  10.556983   \n",
       "WC     20.0  11.061249  0.121203  10.758231  11.008951  11.066301  11.129656   \n",
       "\n",
       "            max  \n",
       "lv               \n",
       "GG    11.652005  \n",
       "JS    10.670491  \n",
       "PJ-1   9.558324  \n",
       "PJ-2  10.521417  \n",
       "SY    10.656619  \n",
       "WC    11.306991  "
      ]
     },
     "execution_count": 80,
     "metadata": {},
     "output_type": "execute_result"
    },
    {
     "data": {
      "image/png": "[encoded data removed]",
      "text/plain": [
       "<Figure size 432x288 with 1 Axes>"
      ]
     },
     "metadata": {
      "needs_background": "light"
     },
     "output_type": "display_data"
    }
   ],
   "source": [
    "density_plot(locations, data, elements[1])\n",
    "\n",
    "data.groupby('lv')[elements[1]].describe()"
   ]
  },
  {
   "cell_type": "markdown",
   "metadata": {},
   "source": [
    "B"
   ]
  },
  {
   "cell_type": "code",
   "execution_count": 81,
   "metadata": {
    "scrolled": false
   },
   "outputs": [
    {
     "data": {
      "text/html": [
       "<div>\n",
       "<style scoped>\n",
       "    .dataframe tbody tr th:only-of-type {\n",
       "        vertical-align: middle;\n",
       "    }\n",
       "\n",
       "    .dataframe tbody tr th {\n",
       "        vertical-align: top;\n",
       "    }\n",
       "\n",
       "    .dataframe thead th {\n",
       "        text-align: right;\n",
       "    }\n",
       "</style>\n",
       "<table border=\"1\" class=\"dataframe\">\n",
       "  <thead>\n",
       "    <tr style=\"text-align: right;\">\n",
       "      <th></th>\n",
       "      <th>count</th>\n",
       "      <th>mean</th>\n",
       "      <th>std</th>\n",
       "      <th>min</th>\n",
       "      <th>25%</th>\n",
       "      <th>50%</th>\n",
       "      <th>75%</th>\n",
       "      <th>max</th>\n",
       "    </tr>\n",
       "    <tr>\n",
       "      <th>lv</th>\n",
       "      <th></th>\n",
       "      <th></th>\n",
       "      <th></th>\n",
       "      <th></th>\n",
       "      <th></th>\n",
       "      <th></th>\n",
       "      <th></th>\n",
       "      <th></th>\n",
       "    </tr>\n",
       "  </thead>\n",
       "  <tbody>\n",
       "    <tr>\n",
       "      <th>GG</th>\n",
       "      <td>16.0</td>\n",
       "      <td>8.608929</td>\n",
       "      <td>0.151893</td>\n",
       "      <td>8.414138</td>\n",
       "      <td>8.485398</td>\n",
       "      <td>8.619523</td>\n",
       "      <td>8.713711</td>\n",
       "      <td>8.957043</td>\n",
       "    </tr>\n",
       "    <tr>\n",
       "      <th>JS</th>\n",
       "      <td>20.0</td>\n",
       "      <td>8.228153</td>\n",
       "      <td>0.176032</td>\n",
       "      <td>7.949523</td>\n",
       "      <td>8.109330</td>\n",
       "      <td>8.224519</td>\n",
       "      <td>8.341984</td>\n",
       "      <td>8.538336</td>\n",
       "    </tr>\n",
       "    <tr>\n",
       "      <th>PJ-1</th>\n",
       "      <td>35.0</td>\n",
       "      <td>9.498883</td>\n",
       "      <td>0.150733</td>\n",
       "      <td>9.271032</td>\n",
       "      <td>9.345774</td>\n",
       "      <td>9.524120</td>\n",
       "      <td>9.602598</td>\n",
       "      <td>9.865923</td>\n",
       "    </tr>\n",
       "    <tr>\n",
       "      <th>PJ-2</th>\n",
       "      <td>20.0</td>\n",
       "      <td>8.724303</td>\n",
       "      <td>0.161791</td>\n",
       "      <td>8.531818</td>\n",
       "      <td>8.596108</td>\n",
       "      <td>8.709689</td>\n",
       "      <td>8.799071</td>\n",
       "      <td>9.141318</td>\n",
       "    </tr>\n",
       "    <tr>\n",
       "      <th>SY</th>\n",
       "      <td>20.0</td>\n",
       "      <td>8.773493</td>\n",
       "      <td>0.172515</td>\n",
       "      <td>8.413383</td>\n",
       "      <td>8.722515</td>\n",
       "      <td>8.764233</td>\n",
       "      <td>8.877779</td>\n",
       "      <td>9.061104</td>\n",
       "    </tr>\n",
       "    <tr>\n",
       "      <th>WC</th>\n",
       "      <td>20.0</td>\n",
       "      <td>8.317846</td>\n",
       "      <td>0.129273</td>\n",
       "      <td>8.081510</td>\n",
       "      <td>8.233997</td>\n",
       "      <td>8.297705</td>\n",
       "      <td>8.400287</td>\n",
       "      <td>8.582795</td>\n",
       "    </tr>\n",
       "  </tbody>\n",
       "</table>\n",
       "</div>"
      ],
      "text/plain": [
       "      count      mean       std       min       25%       50%       75%  \\\n",
       "lv                                                                        \n",
       "GG     16.0  8.608929  0.151893  8.414138  8.485398  8.619523  8.713711   \n",
       "JS     20.0  8.228153  0.176032  7.949523  8.109330  8.224519  8.341984   \n",
       "PJ-1   35.0  9.498883  0.150733  9.271032  9.345774  9.524120  9.602598   \n",
       "PJ-2   20.0  8.724303  0.161791  8.531818  8.596108  8.709689  8.799071   \n",
       "SY     20.0  8.773493  0.172515  8.413383  8.722515  8.764233  8.877779   \n",
       "WC     20.0  8.317846  0.129273  8.081510  8.233997  8.297705  8.400287   \n",
       "\n",
       "           max  \n",
       "lv              \n",
       "GG    8.957043  \n",
       "JS    8.538336  \n",
       "PJ-1  9.865923  \n",
       "PJ-2  9.141318  \n",
       "SY    9.061104  \n",
       "WC    8.582795  "
      ]
     },
     "execution_count": 81,
     "metadata": {},
     "output_type": "execute_result"
    },
    {
     "data": {
      "image/png": "[encoded data removed]",
      "text/plain": [
       "<Figure size 432x288 with 1 Axes>"
      ]
     },
     "metadata": {
      "needs_background": "light"
     },
     "output_type": "display_data"
    }
   ],
   "source": [
    "density_plot(locations, data, elements[2])\n",
    "\n",
    "data.groupby('lv')[elements[2]].describe()"
   ]
  },
  {
   "cell_type": "markdown",
   "metadata": {},
   "source": [
    "Na"
   ]
  },
  {
   "cell_type": "code",
   "execution_count": 82,
   "metadata": {
    "scrolled": false
   },
   "outputs": [
    {
     "data": {
      "text/html": [
       "<div>\n",
       "<style scoped>\n",
       "    .dataframe tbody tr th:only-of-type {\n",
       "        vertical-align: middle;\n",
       "    }\n",
       "\n",
       "    .dataframe tbody tr th {\n",
       "        vertical-align: top;\n",
       "    }\n",
       "\n",
       "    .dataframe thead th {\n",
       "        text-align: right;\n",
       "    }\n",
       "</style>\n",
       "<table border=\"1\" class=\"dataframe\">\n",
       "  <thead>\n",
       "    <tr style=\"text-align: right;\">\n",
       "      <th></th>\n",
       "      <th>count</th>\n",
       "      <th>mean</th>\n",
       "      <th>std</th>\n",
       "      <th>min</th>\n",
       "      <th>25%</th>\n",
       "      <th>50%</th>\n",
       "      <th>75%</th>\n",
       "      <th>max</th>\n",
       "    </tr>\n",
       "    <tr>\n",
       "      <th>lv</th>\n",
       "      <th></th>\n",
       "      <th></th>\n",
       "      <th></th>\n",
       "      <th></th>\n",
       "      <th></th>\n",
       "      <th></th>\n",
       "      <th></th>\n",
       "      <th></th>\n",
       "    </tr>\n",
       "  </thead>\n",
       "  <tbody>\n",
       "    <tr>\n",
       "      <th>GG</th>\n",
       "      <td>16.0</td>\n",
       "      <td>11.018553</td>\n",
       "      <td>0.135075</td>\n",
       "      <td>10.690648</td>\n",
       "      <td>10.964562</td>\n",
       "      <td>11.018809</td>\n",
       "      <td>11.081639</td>\n",
       "      <td>11.284492</td>\n",
       "    </tr>\n",
       "    <tr>\n",
       "      <th>JS</th>\n",
       "      <td>20.0</td>\n",
       "      <td>10.198283</td>\n",
       "      <td>0.150670</td>\n",
       "      <td>9.958060</td>\n",
       "      <td>10.112575</td>\n",
       "      <td>10.174899</td>\n",
       "      <td>10.273606</td>\n",
       "      <td>10.556151</td>\n",
       "    </tr>\n",
       "    <tr>\n",
       "      <th>PJ-1</th>\n",
       "      <td>35.0</td>\n",
       "      <td>13.692792</td>\n",
       "      <td>0.526023</td>\n",
       "      <td>12.890923</td>\n",
       "      <td>13.410102</td>\n",
       "      <td>13.596794</td>\n",
       "      <td>13.890301</td>\n",
       "      <td>15.277934</td>\n",
       "    </tr>\n",
       "    <tr>\n",
       "      <th>PJ-2</th>\n",
       "      <td>20.0</td>\n",
       "      <td>12.542984</td>\n",
       "      <td>0.155666</td>\n",
       "      <td>12.301597</td>\n",
       "      <td>12.420788</td>\n",
       "      <td>12.552847</td>\n",
       "      <td>12.655318</td>\n",
       "      <td>12.814392</td>\n",
       "    </tr>\n",
       "    <tr>\n",
       "      <th>SY</th>\n",
       "      <td>20.0</td>\n",
       "      <td>14.270297</td>\n",
       "      <td>0.227569</td>\n",
       "      <td>13.810504</td>\n",
       "      <td>14.124509</td>\n",
       "      <td>14.268878</td>\n",
       "      <td>14.374482</td>\n",
       "      <td>14.731285</td>\n",
       "    </tr>\n",
       "    <tr>\n",
       "      <th>WC</th>\n",
       "      <td>20.0</td>\n",
       "      <td>12.364394</td>\n",
       "      <td>0.155194</td>\n",
       "      <td>12.161844</td>\n",
       "      <td>12.254887</td>\n",
       "      <td>12.351063</td>\n",
       "      <td>12.404490</td>\n",
       "      <td>12.767970</td>\n",
       "    </tr>\n",
       "  </tbody>\n",
       "</table>\n",
       "</div>"
      ],
      "text/plain": [
       "      count       mean       std        min        25%        50%        75%  \\\n",
       "lv                                                                             \n",
       "GG     16.0  11.018553  0.135075  10.690648  10.964562  11.018809  11.081639   \n",
       "JS     20.0  10.198283  0.150670   9.958060  10.112575  10.174899  10.273606   \n",
       "PJ-1   35.0  13.692792  0.526023  12.890923  13.410102  13.596794  13.890301   \n",
       "PJ-2   20.0  12.542984  0.155666  12.301597  12.420788  12.552847  12.655318   \n",
       "SY     20.0  14.270297  0.227569  13.810504  14.124509  14.268878  14.374482   \n",
       "WC     20.0  12.364394  0.155194  12.161844  12.254887  12.351063  12.404490   \n",
       "\n",
       "            max  \n",
       "lv               \n",
       "GG    11.284492  \n",
       "JS    10.556151  \n",
       "PJ-1  15.277934  \n",
       "PJ-2  12.814392  \n",
       "SY    14.731285  \n",
       "WC    12.767970  "
      ]
     },
     "execution_count": 82,
     "metadata": {},
     "output_type": "execute_result"
    },
    {
     "data": {
      "image/png": "[encoded data removed]",
      "text/plain": [
       "<Figure size 432x288 with 1 Axes>"
      ]
     },
     "metadata": {
      "needs_background": "light"
     },
     "output_type": "display_data"
    }
   ],
   "source": [
    "density_plot(locations, data, elements[3])\n",
    "\n",
    "data.groupby('lv')[elements[3]].describe()"
   ]
  },
  {
   "cell_type": "markdown",
   "metadata": {},
   "source": [
    "Sr"
   ]
  },
  {
   "cell_type": "code",
   "execution_count": 83,
   "metadata": {},
   "outputs": [
    {
     "data": {
      "text/html": [
       "<div>\n",
       "<style scoped>\n",
       "    .dataframe tbody tr th:only-of-type {\n",
       "        vertical-align: middle;\n",
       "    }\n",
       "\n",
       "    .dataframe tbody tr th {\n",
       "        vertical-align: top;\n",
       "    }\n",
       "\n",
       "    .dataframe thead th {\n",
       "        text-align: right;\n",
       "    }\n",
       "</style>\n",
       "<table border=\"1\" class=\"dataframe\">\n",
       "  <thead>\n",
       "    <tr style=\"text-align: right;\">\n",
       "      <th></th>\n",
       "      <th>count</th>\n",
       "      <th>mean</th>\n",
       "      <th>std</th>\n",
       "      <th>min</th>\n",
       "      <th>25%</th>\n",
       "      <th>50%</th>\n",
       "      <th>75%</th>\n",
       "      <th>max</th>\n",
       "    </tr>\n",
       "    <tr>\n",
       "      <th>lv</th>\n",
       "      <th></th>\n",
       "      <th></th>\n",
       "      <th></th>\n",
       "      <th></th>\n",
       "      <th></th>\n",
       "      <th></th>\n",
       "      <th></th>\n",
       "      <th></th>\n",
       "    </tr>\n",
       "  </thead>\n",
       "  <tbody>\n",
       "    <tr>\n",
       "      <th>GG</th>\n",
       "      <td>16.0</td>\n",
       "      <td>6.049641</td>\n",
       "      <td>0.310342</td>\n",
       "      <td>5.548267</td>\n",
       "      <td>5.847216</td>\n",
       "      <td>6.093461</td>\n",
       "      <td>6.366289</td>\n",
       "      <td>6.455451</td>\n",
       "    </tr>\n",
       "    <tr>\n",
       "      <th>JS</th>\n",
       "      <td>20.0</td>\n",
       "      <td>5.846493</td>\n",
       "      <td>0.135372</td>\n",
       "      <td>5.558666</td>\n",
       "      <td>5.753265</td>\n",
       "      <td>5.853054</td>\n",
       "      <td>5.972913</td>\n",
       "      <td>6.026114</td>\n",
       "    </tr>\n",
       "    <tr>\n",
       "      <th>PJ-1</th>\n",
       "      <td>35.0</td>\n",
       "      <td>7.162524</td>\n",
       "      <td>0.235289</td>\n",
       "      <td>6.689166</td>\n",
       "      <td>7.032692</td>\n",
       "      <td>7.107160</td>\n",
       "      <td>7.334919</td>\n",
       "      <td>7.726865</td>\n",
       "    </tr>\n",
       "    <tr>\n",
       "      <th>PJ-2</th>\n",
       "      <td>20.0</td>\n",
       "      <td>6.609921</td>\n",
       "      <td>0.099042</td>\n",
       "      <td>6.474712</td>\n",
       "      <td>6.545891</td>\n",
       "      <td>6.588478</td>\n",
       "      <td>6.677076</td>\n",
       "      <td>6.862829</td>\n",
       "    </tr>\n",
       "    <tr>\n",
       "      <th>SY</th>\n",
       "      <td>20.0</td>\n",
       "      <td>5.816905</td>\n",
       "      <td>0.145444</td>\n",
       "      <td>5.390736</td>\n",
       "      <td>5.762157</td>\n",
       "      <td>5.813897</td>\n",
       "      <td>5.912568</td>\n",
       "      <td>6.101661</td>\n",
       "    </tr>\n",
       "    <tr>\n",
       "      <th>WC</th>\n",
       "      <td>20.0</td>\n",
       "      <td>6.239754</td>\n",
       "      <td>0.131056</td>\n",
       "      <td>5.947503</td>\n",
       "      <td>6.143932</td>\n",
       "      <td>6.225363</td>\n",
       "      <td>6.310253</td>\n",
       "      <td>6.527602</td>\n",
       "    </tr>\n",
       "  </tbody>\n",
       "</table>\n",
       "</div>"
      ],
      "text/plain": [
       "      count      mean       std       min       25%       50%       75%  \\\n",
       "lv                                                                        \n",
       "GG     16.0  6.049641  0.310342  5.548267  5.847216  6.093461  6.366289   \n",
       "JS     20.0  5.846493  0.135372  5.558666  5.753265  5.853054  5.972913   \n",
       "PJ-1   35.0  7.162524  0.235289  6.689166  7.032692  7.107160  7.334919   \n",
       "PJ-2   20.0  6.609921  0.099042  6.474712  6.545891  6.588478  6.677076   \n",
       "SY     20.0  5.816905  0.145444  5.390736  5.762157  5.813897  5.912568   \n",
       "WC     20.0  6.239754  0.131056  5.947503  6.143932  6.225363  6.310253   \n",
       "\n",
       "           max  \n",
       "lv              \n",
       "GG    6.455451  \n",
       "JS    6.026114  \n",
       "PJ-1  7.726865  \n",
       "PJ-2  6.862829  \n",
       "SY    6.101661  \n",
       "WC    6.527602  "
      ]
     },
     "execution_count": 83,
     "metadata": {},
     "output_type": "execute_result"
    },
    {
     "data": {
      "image/png": "[encoded data removed]",
      "text/plain": [
       "<Figure size 432x288 with 1 Axes>"
      ]
     },
     "metadata": {
      "needs_background": "light"
     },
     "output_type": "display_data"
    }
   ],
   "source": [
    "density_plot(locations, data, elements[4])\n",
    "\n",
    "data.groupby('lv')[elements[4]].describe()"
   ]
  },
  {
   "cell_type": "markdown",
   "metadata": {},
   "source": [
    "# construction of decision tree "
   ]
  },
  {
   "cell_type": "code",
   "execution_count": 86,
   "metadata": {},
   "outputs": [
    {
     "data": {
      "text/plain": [
       "PJ-1    35\n",
       "PJ-2    20\n",
       "SY      20\n",
       "JS      20\n",
       "WC      20\n",
       "GG      16\n",
       "Name: lv, dtype: int64"
      ]
     },
     "execution_count": 86,
     "metadata": {},
     "output_type": "execute_result"
    }
   ],
   "source": [
    "data['lv'].value_counts()"
   ]
  },
  {
   "cell_type": "code",
   "execution_count": 128,
   "metadata": {},
   "outputs": [
    {
     "ename": "FileNotFoundError",
     "evalue": "[WinError 2] The system cannot find the file specified",
     "output_type": "error",
     "traceback": [
      "\u001b[1;31m---------------------------------------------------------------------------\u001b[0m",
      "\u001b[1;31mFileNotFoundError\u001b[0m                         Traceback (most recent call last)",
      "\u001b[1;32m<ipython-input-128-26c558d184d8>\u001b[0m in \u001b[0;36m<module>\u001b[1;34m\u001b[0m\n\u001b[0;32m     30\u001b[0m \u001b[1;31m# Convert to png using system command (requires Graphviz)\u001b[0m\u001b[1;33m\u001b[0m\u001b[1;33m\u001b[0m\u001b[1;33m\u001b[0m\u001b[0m\n\u001b[0;32m     31\u001b[0m \u001b[1;31m# from subprocess import call\u001b[0m\u001b[1;33m\u001b[0m\u001b[1;33m\u001b[0m\u001b[1;33m\u001b[0m\u001b[0m\n\u001b[1;32m---> 32\u001b[1;33m \u001b[0mcall\u001b[0m\u001b[1;33m(\u001b[0m\u001b[1;33m[\u001b[0m\u001b[1;34m'dot'\u001b[0m\u001b[1;33m,\u001b[0m \u001b[1;34m'-Tpng'\u001b[0m\u001b[1;33m,\u001b[0m \u001b[1;34m'tree.dot'\u001b[0m\u001b[1;33m,\u001b[0m \u001b[1;34m'-o'\u001b[0m\u001b[1;33m,\u001b[0m \u001b[1;34m'tree.png'\u001b[0m\u001b[1;33m,\u001b[0m \u001b[1;34m'-Gdpi=600'\u001b[0m\u001b[1;33m]\u001b[0m\u001b[1;33m)\u001b[0m\u001b[1;33m\u001b[0m\u001b[1;33m\u001b[0m\u001b[0m\n\u001b[0m\u001b[0;32m     33\u001b[0m \u001b[1;33m\u001b[0m\u001b[0m\n\u001b[0;32m     34\u001b[0m \u001b[1;31m# # Display in jupyter notebook\u001b[0m\u001b[1;33m\u001b[0m\u001b[1;33m\u001b[0m\u001b[1;33m\u001b[0m\u001b[0m\n",
      "\u001b[1;32mc:\\users\\fzkon\\appdata\\local\\programs\\python\\python37\\lib\\subprocess.py\u001b[0m in \u001b[0;36mcall\u001b[1;34m(timeout, *popenargs, **kwargs)\u001b[0m\n\u001b[0;32m    337\u001b[0m     \u001b[0mretcode\u001b[0m \u001b[1;33m=\u001b[0m \u001b[0mcall\u001b[0m\u001b[1;33m(\u001b[0m\u001b[1;33m[\u001b[0m\u001b[1;34m\"ls\"\u001b[0m\u001b[1;33m,\u001b[0m \u001b[1;34m\"-l\"\u001b[0m\u001b[1;33m]\u001b[0m\u001b[1;33m)\u001b[0m\u001b[1;33m\u001b[0m\u001b[1;33m\u001b[0m\u001b[0m\n\u001b[0;32m    338\u001b[0m     \"\"\"\n\u001b[1;32m--> 339\u001b[1;33m     \u001b[1;32mwith\u001b[0m \u001b[0mPopen\u001b[0m\u001b[1;33m(\u001b[0m\u001b[1;33m*\u001b[0m\u001b[0mpopenargs\u001b[0m\u001b[1;33m,\u001b[0m \u001b[1;33m**\u001b[0m\u001b[0mkwargs\u001b[0m\u001b[1;33m)\u001b[0m \u001b[1;32mas\u001b[0m \u001b[0mp\u001b[0m\u001b[1;33m:\u001b[0m\u001b[1;33m\u001b[0m\u001b[1;33m\u001b[0m\u001b[0m\n\u001b[0m\u001b[0;32m    340\u001b[0m         \u001b[1;32mtry\u001b[0m\u001b[1;33m:\u001b[0m\u001b[1;33m\u001b[0m\u001b[1;33m\u001b[0m\u001b[0m\n\u001b[0;32m    341\u001b[0m             \u001b[1;32mreturn\u001b[0m \u001b[0mp\u001b[0m\u001b[1;33m.\u001b[0m\u001b[0mwait\u001b[0m\u001b[1;33m(\u001b[0m\u001b[0mtimeout\u001b[0m\u001b[1;33m=\u001b[0m\u001b[0mtimeout\u001b[0m\u001b[1;33m)\u001b[0m\u001b[1;33m\u001b[0m\u001b[1;33m\u001b[0m\u001b[0m\n",
      "\u001b[1;32mc:\\users\\fzkon\\appdata\\local\\programs\\python\\python37\\lib\\subprocess.py\u001b[0m in \u001b[0;36m__init__\u001b[1;34m(self, args, bufsize, executable, stdin, stdout, stderr, preexec_fn, close_fds, shell, cwd, env, universal_newlines, startupinfo, creationflags, restore_signals, start_new_session, pass_fds, encoding, errors, text)\u001b[0m\n\u001b[0;32m    798\u001b[0m                                 \u001b[0mc2pread\u001b[0m\u001b[1;33m,\u001b[0m \u001b[0mc2pwrite\u001b[0m\u001b[1;33m,\u001b[0m\u001b[1;33m\u001b[0m\u001b[1;33m\u001b[0m\u001b[0m\n\u001b[0;32m    799\u001b[0m                                 \u001b[0merrread\u001b[0m\u001b[1;33m,\u001b[0m \u001b[0merrwrite\u001b[0m\u001b[1;33m,\u001b[0m\u001b[1;33m\u001b[0m\u001b[1;33m\u001b[0m\u001b[0m\n\u001b[1;32m--> 800\u001b[1;33m                                 restore_signals, start_new_session)\n\u001b[0m\u001b[0;32m    801\u001b[0m         \u001b[1;32mexcept\u001b[0m\u001b[1;33m:\u001b[0m\u001b[1;33m\u001b[0m\u001b[1;33m\u001b[0m\u001b[0m\n\u001b[0;32m    802\u001b[0m             \u001b[1;31m# Cleanup if the child failed starting.\u001b[0m\u001b[1;33m\u001b[0m\u001b[1;33m\u001b[0m\u001b[1;33m\u001b[0m\u001b[0m\n",
      "\u001b[1;32mc:\\users\\fzkon\\appdata\\local\\programs\\python\\python37\\lib\\subprocess.py\u001b[0m in \u001b[0;36m_execute_child\u001b[1;34m(self, args, executable, preexec_fn, close_fds, pass_fds, cwd, env, startupinfo, creationflags, shell, p2cread, p2cwrite, c2pread, c2pwrite, errread, errwrite, unused_restore_signals, unused_start_new_session)\u001b[0m\n\u001b[0;32m   1205\u001b[0m                                          \u001b[0menv\u001b[0m\u001b[1;33m,\u001b[0m\u001b[1;33m\u001b[0m\u001b[1;33m\u001b[0m\u001b[0m\n\u001b[0;32m   1206\u001b[0m                                          \u001b[0mos\u001b[0m\u001b[1;33m.\u001b[0m\u001b[0mfspath\u001b[0m\u001b[1;33m(\u001b[0m\u001b[0mcwd\u001b[0m\u001b[1;33m)\u001b[0m \u001b[1;32mif\u001b[0m \u001b[0mcwd\u001b[0m \u001b[1;32mis\u001b[0m \u001b[1;32mnot\u001b[0m \u001b[1;32mNone\u001b[0m \u001b[1;32melse\u001b[0m \u001b[1;32mNone\u001b[0m\u001b[1;33m,\u001b[0m\u001b[1;33m\u001b[0m\u001b[1;33m\u001b[0m\u001b[0m\n\u001b[1;32m-> 1207\u001b[1;33m                                          startupinfo)\n\u001b[0m\u001b[0;32m   1208\u001b[0m             \u001b[1;32mfinally\u001b[0m\u001b[1;33m:\u001b[0m\u001b[1;33m\u001b[0m\u001b[1;33m\u001b[0m\u001b[0m\n\u001b[0;32m   1209\u001b[0m                 \u001b[1;31m# Child is launched. Close the parent's copy of those pipe\u001b[0m\u001b[1;33m\u001b[0m\u001b[1;33m\u001b[0m\u001b[1;33m\u001b[0m\u001b[0m\n",
      "\u001b[1;31mFileNotFoundError\u001b[0m: [WinError 2] The system cannot find the file specified"
     ]
    }
   ],
   "source": [
    "relief_result = relief_result.sort_values(by=['score'], ascending=False)\n",
    "\n",
    "elements = list(relief_result['feature'][0:4])\n",
    "\n",
    "x_tree = x[elements]\n",
    "\n",
    "x_names = x_tree.columns\n",
    "x_names = x_names.tolist()\n",
    "\n",
    "y_names = ['GG', 'JS', 'PJ-1', 'PJ-2', 'SY', 'WC']\n",
    "\n",
    "dtc = DecisionTreeClassifier()\n",
    "sample_split_range = list(range(1, 50))\n",
    "param_grid = dict(min_samples_split=sample_split_range)\n",
    "grid = GridSearchCV(dtc, param_grid, cv = 20, scoring='accuracy')\n",
    "grid.fit(x_tree, y)\n",
    "tree = grid.best_estimator_\n",
    "\n",
    "\n",
    "# Extract single tree\n",
    "\n",
    "from sklearn.tree import export_graphviz\n",
    "# Export as dot file\n",
    "export_graphviz(tree, out_file='tree.dot', \n",
    "                feature_names = x_names,\n",
    "                class_names = y_names,\n",
    "                rounded = True, proportion = False, \n",
    "                precision = 3, filled = True, max_depth=7)\n",
    "\n",
    "# Convert to png using system command (requires Graphviz)\n"
   ]
  },
  {
   "cell_type": "code",
   "execution_count": 129,
   "metadata": {},
   "outputs": [
    {
     "ename": "FileNotFoundError",
     "evalue": "[WinError 2] The system cannot find the file specified",
     "output_type": "error",
     "traceback": [
      "\u001b[1;31m---------------------------------------------------------------------------\u001b[0m",
      "\u001b[1;31mFileNotFoundError\u001b[0m                         Traceback (most recent call last)",
      "\u001b[1;32m<ipython-input-129-40c3690b6660>\u001b[0m in \u001b[0;36m<module>\u001b[1;34m\u001b[0m\n\u001b[0;32m      1\u001b[0m \u001b[1;32mfrom\u001b[0m \u001b[0msubprocess\u001b[0m \u001b[1;32mimport\u001b[0m \u001b[0mcall\u001b[0m\u001b[1;33m\u001b[0m\u001b[1;33m\u001b[0m\u001b[0m\n\u001b[1;32m----> 2\u001b[1;33m \u001b[0mcall\u001b[0m\u001b[1;33m(\u001b[0m\u001b[1;33m[\u001b[0m\u001b[1;34m'dot'\u001b[0m\u001b[1;33m,\u001b[0m \u001b[1;34m'-Tpng'\u001b[0m\u001b[1;33m,\u001b[0m \u001b[1;34m'tree.dot'\u001b[0m\u001b[1;33m,\u001b[0m \u001b[1;34m'-o'\u001b[0m\u001b[1;33m,\u001b[0m \u001b[1;34m'tree.png'\u001b[0m\u001b[1;33m,\u001b[0m \u001b[1;34m'-Gdpi=600'\u001b[0m\u001b[1;33m]\u001b[0m\u001b[1;33m)\u001b[0m\u001b[1;33m\u001b[0m\u001b[1;33m\u001b[0m\u001b[0m\n\u001b[0m",
      "\u001b[1;32mc:\\users\\fzkon\\appdata\\local\\programs\\python\\python37\\lib\\subprocess.py\u001b[0m in \u001b[0;36mcall\u001b[1;34m(timeout, *popenargs, **kwargs)\u001b[0m\n\u001b[0;32m    337\u001b[0m     \u001b[0mretcode\u001b[0m \u001b[1;33m=\u001b[0m \u001b[0mcall\u001b[0m\u001b[1;33m(\u001b[0m\u001b[1;33m[\u001b[0m\u001b[1;34m\"ls\"\u001b[0m\u001b[1;33m,\u001b[0m \u001b[1;34m\"-l\"\u001b[0m\u001b[1;33m]\u001b[0m\u001b[1;33m)\u001b[0m\u001b[1;33m\u001b[0m\u001b[1;33m\u001b[0m\u001b[0m\n\u001b[0;32m    338\u001b[0m     \"\"\"\n\u001b[1;32m--> 339\u001b[1;33m     \u001b[1;32mwith\u001b[0m \u001b[0mPopen\u001b[0m\u001b[1;33m(\u001b[0m\u001b[1;33m*\u001b[0m\u001b[0mpopenargs\u001b[0m\u001b[1;33m,\u001b[0m \u001b[1;33m**\u001b[0m\u001b[0mkwargs\u001b[0m\u001b[1;33m)\u001b[0m \u001b[1;32mas\u001b[0m \u001b[0mp\u001b[0m\u001b[1;33m:\u001b[0m\u001b[1;33m\u001b[0m\u001b[1;33m\u001b[0m\u001b[0m\n\u001b[0m\u001b[0;32m    340\u001b[0m         \u001b[1;32mtry\u001b[0m\u001b[1;33m:\u001b[0m\u001b[1;33m\u001b[0m\u001b[1;33m\u001b[0m\u001b[0m\n\u001b[0;32m    341\u001b[0m             \u001b[1;32mreturn\u001b[0m \u001b[0mp\u001b[0m\u001b[1;33m.\u001b[0m\u001b[0mwait\u001b[0m\u001b[1;33m(\u001b[0m\u001b[0mtimeout\u001b[0m\u001b[1;33m=\u001b[0m\u001b[0mtimeout\u001b[0m\u001b[1;33m)\u001b[0m\u001b[1;33m\u001b[0m\u001b[1;33m\u001b[0m\u001b[0m\n",
      "\u001b[1;32mc:\\users\\fzkon\\appdata\\local\\programs\\python\\python37\\lib\\subprocess.py\u001b[0m in \u001b[0;36m__init__\u001b[1;34m(self, args, bufsize, executable, stdin, stdout, stderr, preexec_fn, close_fds, shell, cwd, env, universal_newlines, startupinfo, creationflags, restore_signals, start_new_session, pass_fds, encoding, errors, text)\u001b[0m\n\u001b[0;32m    798\u001b[0m                                 \u001b[0mc2pread\u001b[0m\u001b[1;33m,\u001b[0m \u001b[0mc2pwrite\u001b[0m\u001b[1;33m,\u001b[0m\u001b[1;33m\u001b[0m\u001b[1;33m\u001b[0m\u001b[0m\n\u001b[0;32m    799\u001b[0m                                 \u001b[0merrread\u001b[0m\u001b[1;33m,\u001b[0m \u001b[0merrwrite\u001b[0m\u001b[1;33m,\u001b[0m\u001b[1;33m\u001b[0m\u001b[1;33m\u001b[0m\u001b[0m\n\u001b[1;32m--> 800\u001b[1;33m                                 restore_signals, start_new_session)\n\u001b[0m\u001b[0;32m    801\u001b[0m         \u001b[1;32mexcept\u001b[0m\u001b[1;33m:\u001b[0m\u001b[1;33m\u001b[0m\u001b[1;33m\u001b[0m\u001b[0m\n\u001b[0;32m    802\u001b[0m             \u001b[1;31m# Cleanup if the child failed starting.\u001b[0m\u001b[1;33m\u001b[0m\u001b[1;33m\u001b[0m\u001b[1;33m\u001b[0m\u001b[0m\n",
      "\u001b[1;32mc:\\users\\fzkon\\appdata\\local\\programs\\python\\python37\\lib\\subprocess.py\u001b[0m in \u001b[0;36m_execute_child\u001b[1;34m(self, args, executable, preexec_fn, close_fds, pass_fds, cwd, env, startupinfo, creationflags, shell, p2cread, p2cwrite, c2pread, c2pwrite, errread, errwrite, unused_restore_signals, unused_start_new_session)\u001b[0m\n\u001b[0;32m   1205\u001b[0m                                          \u001b[0menv\u001b[0m\u001b[1;33m,\u001b[0m\u001b[1;33m\u001b[0m\u001b[1;33m\u001b[0m\u001b[0m\n\u001b[0;32m   1206\u001b[0m                                          \u001b[0mos\u001b[0m\u001b[1;33m.\u001b[0m\u001b[0mfspath\u001b[0m\u001b[1;33m(\u001b[0m\u001b[0mcwd\u001b[0m\u001b[1;33m)\u001b[0m \u001b[1;32mif\u001b[0m \u001b[0mcwd\u001b[0m \u001b[1;32mis\u001b[0m \u001b[1;32mnot\u001b[0m \u001b[1;32mNone\u001b[0m \u001b[1;32melse\u001b[0m \u001b[1;32mNone\u001b[0m\u001b[1;33m,\u001b[0m\u001b[1;33m\u001b[0m\u001b[1;33m\u001b[0m\u001b[0m\n\u001b[1;32m-> 1207\u001b[1;33m                                          startupinfo)\n\u001b[0m\u001b[0;32m   1208\u001b[0m             \u001b[1;32mfinally\u001b[0m\u001b[1;33m:\u001b[0m\u001b[1;33m\u001b[0m\u001b[1;33m\u001b[0m\u001b[0m\n\u001b[0;32m   1209\u001b[0m                 \u001b[1;31m# Child is launched. Close the parent's copy of those pipe\u001b[0m\u001b[1;33m\u001b[0m\u001b[1;33m\u001b[0m\u001b[1;33m\u001b[0m\u001b[0m\n",
      "\u001b[1;31mFileNotFoundError\u001b[0m: [WinError 2] The system cannot find the file specified"
     ]
    }
   ],
   "source": [
    "from subprocess import call\n",
    "call(['dot', '-Tpng', 'tree.dot', '-o', 'tree.png', '-Gdpi=600'])"
   ]
  },
  {
   "cell_type": "code",
   "execution_count": null,
   "metadata": {},
   "outputs": [],
   "source": [
    "\n",
    "# # Display in jupyter notebook\n",
    "# from IPython.display import Image\n",
    "# Image(filename = 'tree.png')"
   ]
  }
 ],
 "metadata": {
  "kernelspec": {
   "display_name": "Python 3",
   "language": "python",
   "name": "python3"
  },
  "language_info": {
   "codemirror_mode": {
    "name": "ipython",
    "version": 3
   },
   "file_extension": ".py",
   "mimetype": "text/x-python",
   "name": "python",
   "nbconvert_exporter": "python",
   "pygments_lexer": "ipython3",
   "version": "3.7.5"
  }
 },
 "nbformat": 4,
 "nbformat_minor": 2
}
