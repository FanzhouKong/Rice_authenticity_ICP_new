{
 "cells": [
  {
   "cell_type": "code",
   "execution_count": 36,
   "metadata": {},
   "outputs": [],
   "source": [
    "# librarys\n",
    "\n",
    "import pandas as pd\n",
    "import numpy as np\n",
    "from sklearn.model_selection import train_test_split\n",
    "from sklearn.ensemble import RandomForestClassifier\n",
    "from sklearn.metrics import accuracy_score\n",
    "from sklearn.metrics import cohen_kappa_score\n",
    "from sklearn.metrics import f1_score\n",
    "from sklearn.metrics import recall_score\n",
    "from sklearn.metrics import precision_score\n",
    "from sklearn.metrics import classification_report\n",
    "from sklearn.ensemble import BaggingClassifier\n",
    "from sklearn.ensemble import AdaBoostClassifier\n",
    "from sklearn.metrics import confusion_matrix\n",
    "from sklearn.metrics import recall_score\n",
    "from sklearn.metrics import balanced_accuracy_score\n",
    "from sklearn.metrics import roc_auc_score\n",
    "from catboost import CatBoostClassifier\n",
    "from imblearn.ensemble import BalancedBaggingClassifier\n",
    "from sklearn.tree import DecisionTreeClassifier\n",
    "from xgboost import XGBClassifier\n",
    "import math\n",
    "import random\n",
    "import warnings\n",
    "warnings.simplefilter('ignore')\n",
    "from sklearn.pipeline import make_pipeline\n",
    "from sklearn.pipeline import Pipeline\n",
    "from skrebate import ReliefF\n",
    "from sklearn.model_selection import cross_val_score\n",
    "from numpy import array\n",
    "from mlxtend.feature_selection import ColumnSelector\n",
    "from sklearn.feature_selection import SelectFromModel\n",
    "from sklearn.ensemble import ExtraTreesClassifier\n",
    "import seaborn as sns\n",
    "import matplotlib.pyplot as plt\n",
    "from sklearn.model_selection import GridSearchCV\n",
    "from sklearn.svm import LinearSVC\n",
    "from IPython.display import Image  \n",
    "from sklearn.tree import export_graphviz\n",
    "from sklearn.tree import DecisionTreeClassifier\n",
    "import pydotplus\n",
    "from sklearn.externals.six import StringIO  \n",
    "from sklearn import svm\n",
    "%matplotlib inline\n",
    "\n",
    "# functions\n",
    "random_state = 233\n",
    "def evaluate(model, x_test, y_test):\n",
    "    y_pred = model.predict(x_test)\n",
    "    #     print('Accuracy: {:.3f}'.format(accuracy_score(y_test, y_pred)))\n",
    "#     print('Kappa: {:.3f}'.format(cohen_kappa_score(y_test, y_pred)))\n",
    "# #     print('F1 socre: {:.3f}'.format(f1_score(y_test, y_pred)))\n",
    "# #     print('Recall socre: {:.3f}'.format(recall_score(y_test, y_pred)))\n",
    "#     print(classification_report(y_test, y_pred))\n",
    "    return(accuracy_score(y_test, y_pred))\n",
    "\n",
    "def report(model, x_test, y_test):\n",
    "    y_pred = model.predict(x_test)\n",
    "    print('Accuracy: {:.3f}'.format(accuracy_score(y_test, y_pred)))\n",
    "    print('Kappa: {:.3f}'.format(cohen_kappa_score(y_test, y_pred)))\n",
    "#     print('Recall socre: {:.3f}'.format(recall_score(y_test, y_pred)))\n",
    "    print(classification_report(y_test, y_pred))\n",
    "    \n",
    "def density_plot(locations, data, element):\n",
    "    # Iterate through the 6 locations\n",
    "    for location in locations:\n",
    "        # Subset to the locations\n",
    "        subset = data[data['lv'] == location]\n",
    "\n",
    "        # Draw the density plot\n",
    "#         sns.distplot(subset[element], hist = False, kde = True,\n",
    "\n",
    "#                      label = location)\n",
    "        sns.kdeplot(subset[element], bw = 0.1, label = location)\n",
    "    # Plot formatting\n",
    "    plt.legend(prop={'size': 16}, title = 'locations')\n",
    "    plt.title('Density Plot')\n",
    "    plt.xlabel(element)\n",
    "    plt.ylabel('Density')"
   ]
  },
  {
   "cell_type": "code",
   "execution_count": 33,
   "metadata": {},
   "outputs": [],
   "source": [
    "def reliefF(data, label, ramdom_state):\n",
    "    x, y = data.drop(label, axis = 1).values, data[label].values\n",
    "    x_train, x_test, y_train, y_test = train_test_split(x, y, test_size = 0.2, random_state = 233)\n",
    "    fs = ReliefF(n_jobs=-1, n_neighbors=len(x_train))\n",
    "    fs.fit(x_train,y_train)\n",
    "    relief_result = pd.DataFrame(columns = ['feature', 'score'])\n",
    "    relief_result['score'] = fs.feature_importances_\n",
    "    relief_result['feature'] =data.columns[1:len(data.columns)]\n",
    "    relief_result=relief_result.sort_values(by=['score'], ascending=False)\n",
    "    return relief_result"
   ]
  },
  {
   "cell_type": "code",
   "execution_count": 3,
   "metadata": {},
   "outputs": [],
   "source": [
    "data = pd.read_csv(\"/Users/analytical/Documents/GitHub/Rice_authenticity_ICP_new/grand.csv\")\n",
    "relief_result = pd.read_csv(\"/Users/analytical/Documents/GitHub/Rice_authenticity_ICP_new/relief_result_python.csv\")\n",
    "relief_result = relief_result.sort_values(by=['score'], ascending=False)\n",
    "x = data.loc[:, data.columns != 'lv']\n",
    "y = data.loc[:, data.columns == 'lv']"
   ]
  },
  {
   "cell_type": "code",
   "execution_count": 8,
   "metadata": {},
   "outputs": [],
   "source": [
    "mask = data['lv'] != 'PJ-1'\n",
    "\n",
    "data_dup = data\n",
    "\n",
    "data_dup['lv'][mask] = 'None'"
   ]
  },
  {
   "cell_type": "code",
   "execution_count": 34,
   "metadata": {},
   "outputs": [],
   "source": [
    "relief_result = reliefF(data_dup, 'lv', random_state)"
   ]
  },
  {
   "cell_type": "code",
   "execution_count": 43,
   "metadata": {},
   "outputs": [
    {
     "data": {
      "text/html": [
       "<div>\n",
       "<style scoped>\n",
       "    .dataframe tbody tr th:only-of-type {\n",
       "        vertical-align: middle;\n",
       "    }\n",
       "\n",
       "    .dataframe tbody tr th {\n",
       "        vertical-align: top;\n",
       "    }\n",
       "\n",
       "    .dataframe thead th {\n",
       "        text-align: right;\n",
       "    }\n",
       "</style>\n",
       "<table border=\"1\" class=\"dataframe\">\n",
       "  <thead>\n",
       "    <tr style=\"text-align: right;\">\n",
       "      <th></th>\n",
       "      <th>feature</th>\n",
       "      <th>score</th>\n",
       "    </tr>\n",
       "  </thead>\n",
       "  <tbody>\n",
       "    <tr>\n",
       "      <th>0</th>\n",
       "      <td>B</td>\n",
       "      <td>0.366470</td>\n",
       "    </tr>\n",
       "    <tr>\n",
       "      <th>20</th>\n",
       "      <td>Rb</td>\n",
       "      <td>0.340551</td>\n",
       "    </tr>\n",
       "    <tr>\n",
       "      <th>3</th>\n",
       "      <td>Al</td>\n",
       "      <td>0.337518</td>\n",
       "    </tr>\n",
       "    <tr>\n",
       "      <th>21</th>\n",
       "      <td>Sr</td>\n",
       "      <td>0.324907</td>\n",
       "    </tr>\n",
       "    <tr>\n",
       "      <th>11</th>\n",
       "      <td>Fe</td>\n",
       "      <td>0.262548</td>\n",
       "    </tr>\n",
       "  </tbody>\n",
       "</table>\n",
       "</div>"
      ],
      "text/plain": [
       "   feature     score\n",
       "0        B  0.366470\n",
       "20      Rb  0.340551\n",
       "3       Al  0.337518\n",
       "21      Sr  0.324907\n",
       "11      Fe  0.262548"
      ]
     },
     "execution_count": 43,
     "metadata": {},
     "output_type": "execute_result"
    }
   ],
   "source": [
    "relief_result.head()"
   ]
  },
  {
   "cell_type": "code",
   "execution_count": 54,
   "metadata": {},
   "outputs": [
    {
     "data": {
      "image/png": "[encoded data removed]",
      "text/plain": [
       "<Figure size 432x288 with 1 Axes>"
      ]
     },
     "metadata": {
      "needs_background": "light"
     },
     "output_type": "display_data"
    }
   ],
   "source": [
    "locations = ['PJ-1', 'None']\n",
    "\n",
    "density_plot(locations, data_dup, 'B')"
   ]
  },
  {
   "cell_type": "code",
   "execution_count": 53,
   "metadata": {},
   "outputs": [
    {
     "data": {
      "text/html": [
       "<div>\n",
       "<style scoped>\n",
       "    .dataframe tbody tr th:only-of-type {\n",
       "        vertical-align: middle;\n",
       "    }\n",
       "\n",
       "    .dataframe tbody tr th {\n",
       "        vertical-align: top;\n",
       "    }\n",
       "\n",
       "    .dataframe thead th {\n",
       "        text-align: right;\n",
       "    }\n",
       "</style>\n",
       "<table border=\"1\" class=\"dataframe\">\n",
       "  <thead>\n",
       "    <tr style=\"text-align: right;\">\n",
       "      <th></th>\n",
       "      <th>count</th>\n",
       "      <th>mean</th>\n",
       "      <th>std</th>\n",
       "      <th>min</th>\n",
       "      <th>25%</th>\n",
       "      <th>50%</th>\n",
       "      <th>75%</th>\n",
       "      <th>max</th>\n",
       "    </tr>\n",
       "    <tr>\n",
       "      <th>lv</th>\n",
       "      <th></th>\n",
       "      <th></th>\n",
       "      <th></th>\n",
       "      <th></th>\n",
       "      <th></th>\n",
       "      <th></th>\n",
       "      <th></th>\n",
       "      <th></th>\n",
       "    </tr>\n",
       "  </thead>\n",
       "  <tbody>\n",
       "    <tr>\n",
       "      <th>None</th>\n",
       "      <td>96.0</td>\n",
       "      <td>8.527279</td>\n",
       "      <td>0.272945</td>\n",
       "      <td>7.949523</td>\n",
       "      <td>8.324767</td>\n",
       "      <td>8.545542</td>\n",
       "      <td>8.736393</td>\n",
       "      <td>9.141318</td>\n",
       "    </tr>\n",
       "    <tr>\n",
       "      <th>PJ-1</th>\n",
       "      <td>35.0</td>\n",
       "      <td>9.498883</td>\n",
       "      <td>0.150733</td>\n",
       "      <td>9.271032</td>\n",
       "      <td>9.345774</td>\n",
       "      <td>9.524120</td>\n",
       "      <td>9.602598</td>\n",
       "      <td>9.865923</td>\n",
       "    </tr>\n",
       "  </tbody>\n",
       "</table>\n",
       "</div>"
      ],
      "text/plain": [
       "      count      mean       std       min       25%       50%       75%  \\\n",
       "lv                                                                        \n",
       "None   96.0  8.527279  0.272945  7.949523  8.324767  8.545542  8.736393   \n",
       "PJ-1   35.0  9.498883  0.150733  9.271032  9.345774  9.524120  9.602598   \n",
       "\n",
       "           max  \n",
       "lv              \n",
       "None  9.141318  \n",
       "PJ-1  9.865923  "
      ]
     },
     "execution_count": 53,
     "metadata": {},
     "output_type": "execute_result"
    }
   ],
   "source": [
    "data_dup.groupby('lv')['B'].describe()"
   ]
  }
 ],
 "metadata": {
  "kernelspec": {
   "display_name": "Python 3",
   "language": "python",
   "name": "python3"
  },
  "language_info": {
   "codemirror_mode": {
    "name": "ipython",
    "version": 3
   },
   "file_extension": ".py",
   "mimetype": "text/x-python",
   "name": "python",
   "nbconvert_exporter": "python",
   "pygments_lexer": "ipython3",
   "version": "3.7.4"
  }
 },
 "nbformat": 4,
 "nbformat_minor": 2
}
